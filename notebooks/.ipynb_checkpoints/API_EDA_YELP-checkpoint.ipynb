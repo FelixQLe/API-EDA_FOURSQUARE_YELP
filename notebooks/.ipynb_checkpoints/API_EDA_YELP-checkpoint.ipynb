{
 "cells": [
  {
   "cell_type": "markdown",
   "id": "5426cfce",
   "metadata": {},
   "source": [
    "#### Send a request with the same location paramaters (location, radius, etc)"
   ]
  },
  {
   "cell_type": "code",
   "execution_count": 5,
   "id": "64f3e059",
   "metadata": {},
   "outputs": [],
   "source": [
    "import requests\n",
    "import os\n",
    "import pandas as pd\n",
    "import numpy as np\n",
    "import json\n",
    "#from pandas import json_normalize\n",
    "import sqlite3\n",
    "yelp_key = os.environ['yelp_api']"
   ]
  },
  {
   "cell_type": "code",
   "execution_count": 7,
   "id": "f875fd18",
   "metadata": {},
   "outputs": [],
   "source": [
    "Yelp_url = 'https://api.yelp.com/v3/businesses/search?latitude=44.38&longitude=-79.70&radius=1000&categories=restaurants, All&limit=50'\n",
    "yelp_headers = {\n",
    "    \"Accept\": \"application/json\",\n",
    "    \"Authorization\": \"Bearer\" + \" \" + yelp_key\n",
    "}\n",
    "yelp_res = requests.get(Yelp_url, headers=yelp_headers)\n",
    "yelp_json = yelp_res.json()"
   ]
  },
  {
   "cell_type": "code",
   "execution_count": null,
   "id": "383a4618",
   "metadata": {},
   "outputs": [],
   "source": []
  }
 ],
 "metadata": {
  "kernelspec": {
   "display_name": "Python 3.8 (tensorflow)",
   "language": "python",
   "name": "lighthouse"
  },
  "language_info": {
   "codemirror_mode": {
    "name": "ipython",
    "version": 3
   },
   "file_extension": ".py",
   "mimetype": "text/x-python",
   "name": "python",
   "nbconvert_exporter": "python",
   "pygments_lexer": "ipython3",
   "version": "3.9.13"
  }
 },
 "nbformat": 4,
 "nbformat_minor": 5
}
