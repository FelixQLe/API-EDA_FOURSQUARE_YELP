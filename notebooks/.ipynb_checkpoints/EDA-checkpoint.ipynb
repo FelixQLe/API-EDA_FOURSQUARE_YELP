{
 "cells": [
  {
   "cell_type": "code",
   "execution_count": 7,
   "metadata": {},
   "outputs": [],
   "source": [
    "import requests\n",
    "import os\n",
    "import pandas as pd\n",
    "import numpy as np\n",
    "import json\n",
    "#from pandas import json_normalize\n",
    "import sqlite3"
   ]
  },
  {
   "cell_type": "code",
   "execution_count": 15,
   "metadata": {},
   "outputs": [],
   "source": [
    "foursquare_api = \"fsq3u98iHboEuSwGOgUw7vIxg3C1EFb4yG+x7jWwwdRG1Q0=\"\n",
    "#yelp_id = os.environ['yelp_ID']\n",
    "#yelp_key = os.environ['yelp_key']\n",
    "#google_key = os.environ['google_key']"
   ]
  },
  {
   "cell_type": "markdown",
   "metadata": {
    "tags": []
   },
   "source": [
    "# Foursquare"
   ]
  },
  {
   "cell_type": "markdown",
   "metadata": {},
   "source": [
    "Send a request to Foursquare with a small radius (1000m) with the location of your choice"
   ]
  },
  {
   "cell_type": "code",
   "execution_count": 16,
   "metadata": {},
   "outputs": [],
   "source": [
    "\"\"\"url fields base\"\"\"\n",
    "\n",
    "fsq_url_relevance = \"https://api.foursquare.com/v3/places/search?query=restaurants&ll=44.38%2C-79.70&radius=1000&sort=RELEVANCE&limit=50\"\n",
    "\n",
    "\"\"\"using for popularity requests\"\"\"\n",
    "fsq_url_poplt = \"https://api.foursquare.com/v3/places/\"\n",
    "fsq_fields = \"?fields=fsq_id%2Cpopularity\"\n",
    "\n",
    "\n",
    "fsq_headers = {\n",
    "    \"Accept\": \"application/json\",\n",
    "    \"Authorization\": foursquare_api\n",
    "}"
   ]
  },
  {
   "cell_type": "code",
   "execution_count": 19,
   "metadata": {},
   "outputs": [],
   "source": [
    "fsq_relevn_res = requests.get(fsq_url_relevance, headers=fsq_headers)\n",
    "fsq_relevn_json = fsq_relevn_res.json()"
   ]
  },
  {
   "cell_type": "markdown",
   "metadata": {},
   "source": [
    "Parse through the response to get the POI details you want (rating, name, location, etc)"
   ]
  },
  {
   "cell_type": "markdown",
   "metadata": {
    "tags": []
   },
   "source": [
    "### helping function"
   ]
  },
  {
   "cell_type": "code",
   "execution_count": 21,
   "metadata": {},
   "outputs": [],
   "source": [
    "def get_popolatiry(fsq_id):\n",
    "    \"\"\"return popularity data for the restaurant according to unique their fsq_id\"\"\"\n",
    "    poplt_res = requests.get(fsq_url_poplt+fsq_id+fsq_fields, headers=fsq_headers)\n",
    "    return poplt_res.json()\n",
    "\n",
    "def write_json(respones_data, name_json):\n",
    "    \"\"\"make a json file if not exit with data file and name\"\"\"\n",
    "    \"\"\"name_json has to have prefix .json, and in string type\"\"\"\n",
    "    with open(name_json, \"w\") as opf:\n",
    "        json.dump(respones_data, opf)\n",
    "\n",
    "def check_empty_data(clm):\n",
    "    \"\"\"check nan, empty list [], dict {} column with more than 40% within column\"\"\"\n",
    "    count = 0\n",
    "    nan_val = None\n",
    "    for value in clm:\n",
    "        #null_val = [\"[]\", \"{}\" \"''\", \"NaN\", \"NULL\"]\n",
    "        if value == [] or value == {} or value == () or value == 'NaN':\n",
    "            nan_val = value\n",
    "            #print(value)\n",
    "            count += 1\n",
    "    #(\"null values percent: {}%\".format(count/len(clm)*100))\n",
    "    if (count/len(clm)*100) > 40:\n",
    "        return True\n",
    "    else:\n",
    "        return False\n",
    "    \n",
    "def drop_na(df):\n",
    "    \"\"\"drop all columns with nan or empty list value more than 40% within column, using function check_empty_data\"\"\"\n",
    "    nan_value = np.nan\n",
    "    for col in df.columns:\n",
    "        #bool_val, nul_val = check_empty_column(df[col])\n",
    "        if check_empty_data(df[col]) == True:\n",
    "            df.drop(col, axis=1, inplace=True)\n",
    "            \n",
    "def high_empty_rate(df):\n",
    "    \"\"\"the function will return table of isnull values and True False column with columns of data, with more than 40% of emtpty rows in column\"\"\"\n",
    "    bool_list = []\n",
    "    col_list = []\n",
    "    is_nul = [val for val in df.isnull().sum()]\n",
    "    for col in df.columns:\n",
    "        TF_value = check_empty_data(df[col])\n",
    "        col_list.append(col)\n",
    "        bool_list.append(TF_value)\n",
    "    list_of_tuples = list(zip(col_list, is_nul, bool_list))\n",
    "    #isnull_check = pd.DataFrame(df_fsq_revln.isnull().sum())\n",
    "    return pd.DataFrame(list_of_tuples, columns=['columnName','is-nul-check','40%-or higher-empty-data'])"
   ]
  },
  {
   "cell_type": "markdown",
   "metadata": {},
   "source": [
    "### Exploring and Checking data"
   ]
  },
  {
   "cell_type": "code",
   "execution_count": 22,
   "metadata": {},
   "outputs": [
    {
     "data": {
      "text/plain": [
       "dict_keys(['results', 'context'])"
      ]
     },
     "execution_count": 22,
     "metadata": {},
     "output_type": "execute_result"
    }
   ],
   "source": [
    "\"\"\"checking json file\"\"\"\n",
    "fsq_relevn_json.keys()"
   ]
  },
  {
   "cell_type": "code",
   "execution_count": 23,
   "metadata": {},
   "outputs": [
    {
     "data": {
      "text/plain": [
       "(dict,\n",
       " list,\n",
       " dict,\n",
       " {'geo_bounds': {'circle': {'center': {'latitude': 44.38, 'longitude': -79.7},\n",
       "    'radius': 1000}}},\n",
       " {'fsq_id': '4d2ef96479dd6ea83b848dd3',\n",
       "  'categories': [{'id': 11057,\n",
       "    'name': 'Caterer',\n",
       "    'icon': {'prefix': 'https://ss3.4sqi.net/img/categories_v2/shops/foodanddrink_',\n",
       "     'suffix': '.png'}}],\n",
       "  'chains': [],\n",
       "  'distance': 226,\n",
       "  'geocodes': {'main': {'latitude': 44.3814, 'longitude': -79.697968},\n",
       "   'roof': {'latitude': 44.3814, 'longitude': -79.697968}},\n",
       "  'link': '/v3/places/4d2ef96479dd6ea83b848dd3',\n",
       "  'location': {'address': '96 Victoria St',\n",
       "   'country': 'CA',\n",
       "   'cross_street': '',\n",
       "   'formatted_address': '96 Victoria St, Barrie ON L4N 2J1',\n",
       "   'locality': 'Barrie',\n",
       "   'postcode': 'L4N 2J1',\n",
       "   'region': 'ON'},\n",
       "  'name': \"Fox's Catering\",\n",
       "  'related_places': {},\n",
       "  'timezone': 'America/Toronto'})"
      ]
     },
     "execution_count": 23,
     "metadata": {},
     "output_type": "execute_result"
    }
   ],
   "source": [
    "\"\"\"checking fsq_relevn_json file content\"\"\"\n",
    "type(fsq_relevn_json), type(fsq_relevn_json['results']), type(fsq_relevn_json['context']), fsq_relevn_json['context'], fsq_relevn_json['results'][0]"
   ]
  },
  {
   "cell_type": "code",
   "execution_count": 24,
   "metadata": {},
   "outputs": [],
   "source": [
    "\"\"\"getting relevent data\"\"\"\n",
    "fsq_relevn_json = fsq_relevn_json['results']\n",
    "fsq_poplt = [get_popolatiry(fsq['fsq_id']) for fsq in fsq_relevn_json]"
   ]
  },
  {
   "cell_type": "code",
   "execution_count": 25,
   "metadata": {},
   "outputs": [],
   "source": [
    "write_json(fsq_poplt ,\"popularity_res_foursquare.json\")\n",
    "write_json(fsq_relevn_json,\"relevn_res_foursquare.json\")"
   ]
  },
  {
   "cell_type": "code",
   "execution_count": 26,
   "metadata": {},
   "outputs": [],
   "source": [
    "df_fsq_poplt = pd.read_json(\"popularity_res_foursquare.json\")\n",
    "df_fsq_revln = pd.read_json(\"relevn_res_foursquare.json\")"
   ]
  },
  {
   "cell_type": "code",
   "execution_count": 19,
   "metadata": {},
   "outputs": [
    {
     "data": {
      "text/plain": [
       "(pandas.core.frame.DataFrame, pandas.core.frame.DataFrame)"
      ]
     },
     "execution_count": 19,
     "metadata": {},
     "output_type": "execute_result"
    }
   ],
   "source": [
    "type(df_fsq_poplt), type(df_fsq_revln)"
   ]
  },
  {
   "cell_type": "code",
   "execution_count": 40,
   "metadata": {},
   "outputs": [
    {
     "data": {
      "text/html": [
       "<div>\n",
       "<style scoped>\n",
       "    .dataframe tbody tr th:only-of-type {\n",
       "        vertical-align: middle;\n",
       "    }\n",
       "\n",
       "    .dataframe tbody tr th {\n",
       "        vertical-align: top;\n",
       "    }\n",
       "\n",
       "    .dataframe thead th {\n",
       "        text-align: right;\n",
       "    }\n",
       "</style>\n",
       "<table border=\"1\" class=\"dataframe\">\n",
       "  <thead>\n",
       "    <tr style=\"text-align: right;\">\n",
       "      <th></th>\n",
       "      <th>fsq_id</th>\n",
       "      <th>categories</th>\n",
       "      <th>distance</th>\n",
       "      <th>geocodes</th>\n",
       "      <th>link</th>\n",
       "      <th>location</th>\n",
       "      <th>name</th>\n",
       "      <th>timezone</th>\n",
       "    </tr>\n",
       "  </thead>\n",
       "  <tbody>\n",
       "    <tr>\n",
       "      <th>0</th>\n",
       "      <td>4d2ef96479dd6ea83b848dd3</td>\n",
       "      <td>[{'id': 11057, 'name': 'Caterer', 'icon': {'pr...</td>\n",
       "      <td>226</td>\n",
       "      <td>{'main': {'latitude': 44.3814, 'longitude': -7...</td>\n",
       "      <td>/v3/places/4d2ef96479dd6ea83b848dd3</td>\n",
       "      <td>{'address': '96 Victoria St', 'country': 'CA',...</td>\n",
       "      <td>Fox's Catering</td>\n",
       "      <td>America/Toronto</td>\n",
       "    </tr>\n",
       "    <tr>\n",
       "      <th>1</th>\n",
       "      <td>4b6eee17f964a5209cd12ce3</td>\n",
       "      <td>[{'id': 13049, 'name': 'Diner', 'icon': {'pref...</td>\n",
       "      <td>523</td>\n",
       "      <td>{'main': {'latitude': 44.379593, 'longitude': ...</td>\n",
       "      <td>/v3/places/4b6eee17f964a5209cd12ce3</td>\n",
       "      <td>{'address': '151 Bradford St', 'country': 'CA'...</td>\n",
       "      <td>Midway Diner</td>\n",
       "      <td>America/Toronto</td>\n",
       "    </tr>\n",
       "  </tbody>\n",
       "</table>\n",
       "</div>"
      ],
      "text/plain": [
       "                     fsq_id  \\\n",
       "0  4d2ef96479dd6ea83b848dd3   \n",
       "1  4b6eee17f964a5209cd12ce3   \n",
       "\n",
       "                                          categories  distance  \\\n",
       "0  [{'id': 11057, 'name': 'Caterer', 'icon': {'pr...       226   \n",
       "1  [{'id': 13049, 'name': 'Diner', 'icon': {'pref...       523   \n",
       "\n",
       "                                            geocodes  \\\n",
       "0  {'main': {'latitude': 44.3814, 'longitude': -7...   \n",
       "1  {'main': {'latitude': 44.379593, 'longitude': ...   \n",
       "\n",
       "                                  link  \\\n",
       "0  /v3/places/4d2ef96479dd6ea83b848dd3   \n",
       "1  /v3/places/4b6eee17f964a5209cd12ce3   \n",
       "\n",
       "                                            location            name  \\\n",
       "0  {'address': '96 Victoria St', 'country': 'CA',...  Fox's Catering   \n",
       "1  {'address': '151 Bradford St', 'country': 'CA'...    Midway Diner   \n",
       "\n",
       "          timezone  \n",
       "0  America/Toronto  \n",
       "1  America/Toronto  "
      ]
     },
     "execution_count": 40,
     "metadata": {},
     "output_type": "execute_result"
    }
   ],
   "source": [
    "df_fsq_revln.head(2)"
   ]
  },
  {
   "cell_type": "markdown",
   "metadata": {
    "tags": []
   },
   "source": [
    "### Cleaning data"
   ]
  },
  {
   "cell_type": "code",
   "execution_count": 55,
   "metadata": {},
   "outputs": [
    {
     "data": {
      "text/plain": [
       "{'address': 'Dunlop St E',\n",
       " 'country': 'CA',\n",
       " 'cross_street': 'Mulcaster St',\n",
       " 'formatted_address': 'Dunlop St E (Mulcaster St), Barrie ON',\n",
       " 'locality': 'Barrie',\n",
       " 'region': 'ON'}"
      ]
     },
     "execution_count": 55,
     "metadata": {},
     "output_type": "execute_result"
    }
   ],
   "source": [
    "df_fsq_revln['location'][23]\n",
    "#n = 0\n",
    "#for location in df_fsq_revln['location']:\n",
    "#    n = n+1\n",
    "#    print(n, location['postcode'])"
   ]
  },
  {
   "cell_type": "code",
   "execution_count": 56,
   "metadata": {},
   "outputs": [],
   "source": [
    "def unpack_location(data):\n",
    "    \"\"\"unpacked location infos into list, for later use input to sqlite table\"\"\"\n",
    "    num = 0\n",
    "    location_list = []\n",
    "    for location in data['location']:\n",
    "        #fsq_id = data['fsq_id'][num]\n",
    "        details = pd.Series(location)[['address', 'locality', 'region', 'country']]\n",
    "        fsqid_col = pd.Series([data_geo['fsq_id'][num]], index=['fsq_id'])\n",
    "        location_list.append(pd.concat([fsqid_col, details]))\n",
    "        num += 1\n",
    "    return location_list\n",
    "\n",
    "def unpack_categories(data):\n",
    "    \"\"\"unpacking the categories into dataframe for later, input to sqlite table\"\"\"\n",
    "    cat_idx = data.set_index(['fsq_id']).categories.apply(pd.Series).stack().index\n",
    "    df_catgrs = pd.DataFrame(data.set_index(['fsq_id']).categories.apply(pd.Series).stack().values.tolist(),index=cat_idx).reset_index().drop(['level_1', 'icon'], axis=1)\n",
    "    return df_catgrs"
   ]
  },
  {
   "cell_type": "code",
   "execution_count": 57,
   "metadata": {},
   "outputs": [
    {
     "data": {
      "text/html": [
       "<div>\n",
       "<style scoped>\n",
       "    .dataframe tbody tr th:only-of-type {\n",
       "        vertical-align: middle;\n",
       "    }\n",
       "\n",
       "    .dataframe tbody tr th {\n",
       "        vertical-align: top;\n",
       "    }\n",
       "\n",
       "    .dataframe thead th {\n",
       "        text-align: right;\n",
       "    }\n",
       "</style>\n",
       "<table border=\"1\" class=\"dataframe\">\n",
       "  <thead>\n",
       "    <tr style=\"text-align: right;\">\n",
       "      <th></th>\n",
       "      <th>columnName</th>\n",
       "      <th>is-nul-check</th>\n",
       "      <th>40%-or higher-empty-data</th>\n",
       "    </tr>\n",
       "  </thead>\n",
       "  <tbody>\n",
       "    <tr>\n",
       "      <th>0</th>\n",
       "      <td>fsq_id</td>\n",
       "      <td>0</td>\n",
       "      <td>False</td>\n",
       "    </tr>\n",
       "    <tr>\n",
       "      <th>1</th>\n",
       "      <td>categories</td>\n",
       "      <td>0</td>\n",
       "      <td>False</td>\n",
       "    </tr>\n",
       "    <tr>\n",
       "      <th>2</th>\n",
       "      <td>distance</td>\n",
       "      <td>0</td>\n",
       "      <td>False</td>\n",
       "    </tr>\n",
       "    <tr>\n",
       "      <th>3</th>\n",
       "      <td>geocodes</td>\n",
       "      <td>0</td>\n",
       "      <td>False</td>\n",
       "    </tr>\n",
       "    <tr>\n",
       "      <th>4</th>\n",
       "      <td>link</td>\n",
       "      <td>0</td>\n",
       "      <td>False</td>\n",
       "    </tr>\n",
       "    <tr>\n",
       "      <th>5</th>\n",
       "      <td>location</td>\n",
       "      <td>0</td>\n",
       "      <td>False</td>\n",
       "    </tr>\n",
       "    <tr>\n",
       "      <th>6</th>\n",
       "      <td>name</td>\n",
       "      <td>0</td>\n",
       "      <td>False</td>\n",
       "    </tr>\n",
       "    <tr>\n",
       "      <th>7</th>\n",
       "      <td>timezone</td>\n",
       "      <td>0</td>\n",
       "      <td>False</td>\n",
       "    </tr>\n",
       "  </tbody>\n",
       "</table>\n",
       "</div>"
      ],
      "text/plain": [
       "   columnName  is-nul-check  40%-or higher-empty-data\n",
       "0      fsq_id             0                     False\n",
       "1  categories             0                     False\n",
       "2    distance             0                     False\n",
       "3    geocodes             0                     False\n",
       "4        link             0                     False\n",
       "5    location             0                     False\n",
       "6        name             0                     False\n",
       "7    timezone             0                     False"
      ]
     },
     "execution_count": 57,
     "metadata": {},
     "output_type": "execute_result"
    }
   ],
   "source": [
    "high_empty_rate(df_fsq_revln)"
   ]
  },
  {
   "cell_type": "code",
   "execution_count": 58,
   "metadata": {},
   "outputs": [],
   "source": [
    "\"\"\"drop all high empty columns, according to function high_empty_rate return\"\"\"\n",
    "drop_na(df_fsq_revln)"
   ]
  },
  {
   "cell_type": "code",
   "execution_count": 59,
   "metadata": {},
   "outputs": [
    {
     "data": {
      "text/html": [
       "<div>\n",
       "<style scoped>\n",
       "    .dataframe tbody tr th:only-of-type {\n",
       "        vertical-align: middle;\n",
       "    }\n",
       "\n",
       "    .dataframe tbody tr th {\n",
       "        vertical-align: top;\n",
       "    }\n",
       "\n",
       "    .dataframe thead th {\n",
       "        text-align: right;\n",
       "    }\n",
       "</style>\n",
       "<table border=\"1\" class=\"dataframe\">\n",
       "  <thead>\n",
       "    <tr style=\"text-align: right;\">\n",
       "      <th></th>\n",
       "      <th>fsq_id</th>\n",
       "      <th>categories</th>\n",
       "      <th>distance</th>\n",
       "      <th>geocodes</th>\n",
       "      <th>link</th>\n",
       "      <th>location</th>\n",
       "      <th>name</th>\n",
       "      <th>timezone</th>\n",
       "    </tr>\n",
       "  </thead>\n",
       "  <tbody>\n",
       "    <tr>\n",
       "      <th>0</th>\n",
       "      <td>4d2ef96479dd6ea83b848dd3</td>\n",
       "      <td>[{'id': 11057, 'name': 'Caterer', 'icon': {'pr...</td>\n",
       "      <td>226</td>\n",
       "      <td>{'main': {'latitude': 44.3814, 'longitude': -7...</td>\n",
       "      <td>/v3/places/4d2ef96479dd6ea83b848dd3</td>\n",
       "      <td>{'address': '96 Victoria St', 'country': 'CA',...</td>\n",
       "      <td>Fox's Catering</td>\n",
       "      <td>America/Toronto</td>\n",
       "    </tr>\n",
       "    <tr>\n",
       "      <th>1</th>\n",
       "      <td>4b6eee17f964a5209cd12ce3</td>\n",
       "      <td>[{'id': 13049, 'name': 'Diner', 'icon': {'pref...</td>\n",
       "      <td>523</td>\n",
       "      <td>{'main': {'latitude': 44.379593, 'longitude': ...</td>\n",
       "      <td>/v3/places/4b6eee17f964a5209cd12ce3</td>\n",
       "      <td>{'address': '151 Bradford St', 'country': 'CA'...</td>\n",
       "      <td>Midway Diner</td>\n",
       "      <td>America/Toronto</td>\n",
       "    </tr>\n",
       "  </tbody>\n",
       "</table>\n",
       "</div>"
      ],
      "text/plain": [
       "                     fsq_id  \\\n",
       "0  4d2ef96479dd6ea83b848dd3   \n",
       "1  4b6eee17f964a5209cd12ce3   \n",
       "\n",
       "                                          categories  distance  \\\n",
       "0  [{'id': 11057, 'name': 'Caterer', 'icon': {'pr...       226   \n",
       "1  [{'id': 13049, 'name': 'Diner', 'icon': {'pref...       523   \n",
       "\n",
       "                                            geocodes  \\\n",
       "0  {'main': {'latitude': 44.3814, 'longitude': -7...   \n",
       "1  {'main': {'latitude': 44.379593, 'longitude': ...   \n",
       "\n",
       "                                  link  \\\n",
       "0  /v3/places/4d2ef96479dd6ea83b848dd3   \n",
       "1  /v3/places/4b6eee17f964a5209cd12ce3   \n",
       "\n",
       "                                            location            name  \\\n",
       "0  {'address': '96 Victoria St', 'country': 'CA',...  Fox's Catering   \n",
       "1  {'address': '151 Bradford St', 'country': 'CA'...    Midway Diner   \n",
       "\n",
       "          timezone  \n",
       "0  America/Toronto  \n",
       "1  America/Toronto  "
      ]
     },
     "execution_count": 59,
     "metadata": {},
     "output_type": "execute_result"
    }
   ],
   "source": [
    "df_fsq_revln.head(2)"
   ]
  },
  {
   "cell_type": "code",
   "execution_count": 60,
   "metadata": {},
   "outputs": [],
   "source": [
    "\"\"\"extracting category and location columns\"\"\"\n",
    "data_categor = df_fsq_revln[['fsq_id', 'categories']]\n",
    "data_geo = df_fsq_revln[['fsq_id', 'location']]\n",
    "\n",
    "\"\"\"input to dataframe format\"\"\"\n",
    "df_location = pd.DataFrame(unpack_location(df_fsq_revln))\n",
    "df_categories = unpack_categories(data_categor)"
   ]
  },
  {
   "cell_type": "code",
   "execution_count": 63,
   "metadata": {},
   "outputs": [
    {
     "name": "stdout",
     "output_type": "stream",
     "text": [
      "                     fsq_id          address locality region country\n",
      "0  4d2ef96479dd6ea83b848dd3   96 Victoria St   Barrie     ON      CA\n",
      "1  4b6eee17f964a5209cd12ce3  151 Bradford St   Barrie     ON      CA\n",
      "2  5a70fb7a9411f2304935997a     29 Anne St S   Barrie     ON      CA\n",
      "                     fsq_id     id                 name\n",
      "0  4d2ef96479dd6ea83b848dd3  11057              Caterer\n",
      "1  4b6eee17f964a5209cd12ce3  13049                Diner\n",
      "2  4b6eee17f964a5209cd12ce3  13068  American Restaurant\n"
     ]
    }
   ],
   "source": [
    "df_location.head(3)"
   ]
  },
  {
   "cell_type": "code",
   "execution_count": 25,
   "metadata": {},
   "outputs": [],
   "source": [
    "\"\"\"drop columns with not relevant info, and columns that already be extacted\"\"\"\n",
    "df_fsq_revln.drop(['geocodes', 'link', 'location', 'categories', 'distance'], axis=1, inplace=True)"
   ]
  },
  {
   "cell_type": "code",
   "execution_count": 26,
   "metadata": {},
   "outputs": [
    {
     "data": {
      "text/plain": [
       "(pandas.core.frame.DataFrame, pandas.core.frame.DataFrame, 20, 20)"
      ]
     },
     "execution_count": 26,
     "metadata": {},
     "output_type": "execute_result"
    }
   ],
   "source": [
    "type(df_fsq_poplt), type(df_fsq_revln), len(df_fsq_poplt), len(df_fsq_revln)"
   ]
  },
  {
   "cell_type": "markdown",
   "metadata": {},
   "source": [
    "Put your parsed results into a DataFrame"
   ]
  },
  {
   "cell_type": "code",
   "execution_count": 27,
   "metadata": {},
   "outputs": [],
   "source": [
    "\"\"\"merging two dataframes to one\"\"\"\n",
    "df_places_popularity = pd.merge(left=df_fsq_revln, right=df_fsq_poplt, left_on='fsq_id', right_on='fsq_id')"
   ]
  },
  {
   "cell_type": "markdown",
   "metadata": {
    "tags": []
   },
   "source": [
    "# Yelp"
   ]
  },
  {
   "cell_type": "markdown",
   "metadata": {},
   "source": [
    "Send a request with the same location paramaters (location, radius, etc)"
   ]
  },
  {
   "cell_type": "code",
   "execution_count": 28,
   "metadata": {},
   "outputs": [],
   "source": [
    "Yelp_url = 'https://api.yelp.com/v3/businesses/search?latitude=44.38&longitude=-79.70&radius=1000&categories=restaurants, All&limit=50'\n",
    "yelp_headers = {\n",
    "    \"Accept\": \"application/json\",\n",
    "    \"Authorization\": \"Bearer\" + \" \" + yelp_key\n",
    "}"
   ]
  },
  {
   "cell_type": "markdown",
   "metadata": {},
   "source": [
    "Parse through your result and get POI details"
   ]
  },
  {
   "cell_type": "markdown",
   "metadata": {
    "tags": []
   },
   "source": [
    "### LOADING DATA"
   ]
  },
  {
   "cell_type": "code",
   "execution_count": 29,
   "metadata": {},
   "outputs": [],
   "source": [
    "yelp_res = requests.get(Yelp_url, headers=yelp_headers)\n",
    "yelp_json = yelp_res.json()"
   ]
  },
  {
   "cell_type": "markdown",
   "metadata": {},
   "source": [
    "Put your parsed results into a DataFrame"
   ]
  },
  {
   "cell_type": "markdown",
   "metadata": {},
   "source": [
    "### \"\"\"EXPLORING AND CHECKING RESQUETS DATA\"\"\""
   ]
  },
  {
   "cell_type": "code",
   "execution_count": 30,
   "metadata": {},
   "outputs": [
    {
     "data": {
      "text/plain": [
       "dict_keys(['businesses', 'total', 'region'])"
      ]
     },
     "execution_count": 30,
     "metadata": {},
     "output_type": "execute_result"
    }
   ],
   "source": [
    "yelp_json.keys()"
   ]
  },
  {
   "cell_type": "code",
   "execution_count": 31,
   "metadata": {},
   "outputs": [
    {
     "data": {
      "text/plain": [
       "(list, int, dict)"
      ]
     },
     "execution_count": 31,
     "metadata": {},
     "output_type": "execute_result"
    }
   ],
   "source": [
    "type(yelp_json['businesses']), type(yelp_json['total']), type(yelp_json['region'])"
   ]
  },
  {
   "cell_type": "code",
   "execution_count": 32,
   "metadata": {},
   "outputs": [
    {
     "data": {
      "text/plain": [
       "({'id': '0ALYlK6edo8OnbiwH-b7fA',\n",
       "  'alias': 'lazy-tulip-cafe-barrie',\n",
       "  'name': 'Lazy Tulip Cafe',\n",
       "  'image_url': 'https://s3-media4.fl.yelpcdn.com/bphoto/1lOxlPckMeZqG-JHB0IJOg/o.jpg',\n",
       "  'is_closed': False,\n",
       "  'url': 'https://www.yelp.com/biz/lazy-tulip-cafe-barrie?adjust_creative=R3IyOYuVXLt1MMjX1HFo3g&utm_campaign=yelp_api_v3&utm_medium=api_v3_business_search&utm_source=R3IyOYuVXLt1MMjX1HFo3g',\n",
       "  'review_count': 56,\n",
       "  'categories': [{'alias': 'cafes', 'title': 'Cafes'},\n",
       "   {'alias': 'breakfast_brunch', 'title': 'Breakfast & Brunch'},\n",
       "   {'alias': 'sandwiches', 'title': 'Sandwiches'}],\n",
       "  'rating': 4.0,\n",
       "  'coordinates': {'latitude': 44.37958, 'longitude': -79.69345},\n",
       "  'transactions': [],\n",
       "  'price': '$$',\n",
       "  'location': {'address1': '151 Bradford Street',\n",
       "   'address2': None,\n",
       "   'address3': '',\n",
       "   'city': 'Barrie',\n",
       "   'zip_code': 'L4N 3B4',\n",
       "   'country': 'CA',\n",
       "   'state': 'ON',\n",
       "   'display_address': ['151 Bradford Street', 'Barrie, ON L4N 3B4', 'Canada']},\n",
       "  'phone': '+17052520910',\n",
       "  'display_phone': '+1 705-252-0910',\n",
       "  'distance': 531.0234267541861},\n",
       " {'center': {'longitude': -79.7, 'latitude': 44.38}})"
      ]
     },
     "execution_count": 32,
     "metadata": {},
     "output_type": "execute_result"
    }
   ],
   "source": [
    "\"\"\"yelp_json['total'] is total res return, no need to check further, yelp_json['businesses'] is data we looking for\"\"\"\n",
    "yelp_json['businesses'][0], yelp_json['region']"
   ]
  },
  {
   "cell_type": "code",
   "execution_count": 33,
   "metadata": {},
   "outputs": [],
   "source": [
    "write_json(yelp_json['businesses'], \"yelp_res_data.json\")"
   ]
  },
  {
   "cell_type": "code",
   "execution_count": 34,
   "metadata": {},
   "outputs": [],
   "source": [
    "df_yelp = pd.read_json(\"yelp_res_data.json\")"
   ]
  },
  {
   "cell_type": "code",
   "execution_count": 35,
   "metadata": {},
   "outputs": [
    {
     "data": {
      "text/html": [
       "<div>\n",
       "<style scoped>\n",
       "    .dataframe tbody tr th:only-of-type {\n",
       "        vertical-align: middle;\n",
       "    }\n",
       "\n",
       "    .dataframe tbody tr th {\n",
       "        vertical-align: top;\n",
       "    }\n",
       "\n",
       "    .dataframe thead th {\n",
       "        text-align: right;\n",
       "    }\n",
       "</style>\n",
       "<table border=\"1\" class=\"dataframe\">\n",
       "  <thead>\n",
       "    <tr style=\"text-align: right;\">\n",
       "      <th></th>\n",
       "      <th>id</th>\n",
       "      <th>alias</th>\n",
       "      <th>name</th>\n",
       "      <th>image_url</th>\n",
       "      <th>is_closed</th>\n",
       "      <th>url</th>\n",
       "      <th>review_count</th>\n",
       "      <th>categories</th>\n",
       "      <th>rating</th>\n",
       "      <th>coordinates</th>\n",
       "      <th>transactions</th>\n",
       "      <th>price</th>\n",
       "      <th>location</th>\n",
       "      <th>phone</th>\n",
       "      <th>display_phone</th>\n",
       "      <th>distance</th>\n",
       "    </tr>\n",
       "  </thead>\n",
       "  <tbody>\n",
       "    <tr>\n",
       "      <th>0</th>\n",
       "      <td>0ALYlK6edo8OnbiwH-b7fA</td>\n",
       "      <td>lazy-tulip-cafe-barrie</td>\n",
       "      <td>Lazy Tulip Cafe</td>\n",
       "      <td>https://s3-media4.fl.yelpcdn.com/bphoto/1lOxlP...</td>\n",
       "      <td>False</td>\n",
       "      <td>https://www.yelp.com/biz/lazy-tulip-cafe-barri...</td>\n",
       "      <td>56</td>\n",
       "      <td>[{'alias': 'cafes', 'title': 'Cafes'}, {'alias...</td>\n",
       "      <td>4.0</td>\n",
       "      <td>{'latitude': 44.37958, 'longitude': -79.69345}</td>\n",
       "      <td>[]</td>\n",
       "      <td>$$</td>\n",
       "      <td>{'address1': '151 Bradford Street', 'address2'...</td>\n",
       "      <td>17052520910</td>\n",
       "      <td>+1 705-252-0910</td>\n",
       "      <td>531.023427</td>\n",
       "    </tr>\n",
       "    <tr>\n",
       "      <th>1</th>\n",
       "      <td>FEV75sLYoN1dvSpUCyIePA</td>\n",
       "      <td>pie-wood-fired-pizza-joint-barrie-4</td>\n",
       "      <td>Pie Wood Fired Pizza Joint</td>\n",
       "      <td>https://s3-media4.fl.yelpcdn.com/bphoto/-vGeWK...</td>\n",
       "      <td>False</td>\n",
       "      <td>https://www.yelp.com/biz/pie-wood-fired-pizza-...</td>\n",
       "      <td>65</td>\n",
       "      <td>[{'alias': 'pizza', 'title': 'Pizza'}, {'alias...</td>\n",
       "      <td>4.0</td>\n",
       "      <td>{'latitude': 44.3811166940956, 'longitude': -7...</td>\n",
       "      <td>[]</td>\n",
       "      <td>$$</td>\n",
       "      <td>{'address1': '11 Victoria St', 'address2': '',...</td>\n",
       "      <td>17057287952</td>\n",
       "      <td>+1 705-728-7952</td>\n",
       "      <td>748.207341</td>\n",
       "    </tr>\n",
       "    <tr>\n",
       "      <th>2</th>\n",
       "      <td>s-noC8RmKF6FF2TZscl4Ig</td>\n",
       "      <td>the-farmhouse-restaurant-barrie</td>\n",
       "      <td>The Farmhouse Restaurant</td>\n",
       "      <td>https://s3-media1.fl.yelpcdn.com/bphoto/Evy3zl...</td>\n",
       "      <td>False</td>\n",
       "      <td>https://www.yelp.com/biz/the-farmhouse-restaur...</td>\n",
       "      <td>75</td>\n",
       "      <td>[{'alias': 'southern', 'title': 'Southern'}, {...</td>\n",
       "      <td>3.5</td>\n",
       "      <td>{'latitude': 44.3746199, 'longitude': -79.6896...</td>\n",
       "      <td>[]</td>\n",
       "      <td>$$</td>\n",
       "      <td>{'address1': '268 Bradford Street', 'address2'...</td>\n",
       "      <td>17057370522</td>\n",
       "      <td>+1 705-737-0522</td>\n",
       "      <td>1018.732499</td>\n",
       "    </tr>\n",
       "    <tr>\n",
       "      <th>3</th>\n",
       "      <td>efeu6n1otNmaJPhwNLbLLw</td>\n",
       "      <td>il-buco-ristorante-barrie</td>\n",
       "      <td>Il Buco Ristorante</td>\n",
       "      <td>https://s3-media4.fl.yelpcdn.com/bphoto/sE-WPP...</td>\n",
       "      <td>False</td>\n",
       "      <td>https://www.yelp.com/biz/il-buco-ristorante-ba...</td>\n",
       "      <td>22</td>\n",
       "      <td>[{'alias': 'italian', 'title': 'Italian'}]</td>\n",
       "      <td>4.0</td>\n",
       "      <td>{'latitude': 44.38914, 'longitude': -79.68919}</td>\n",
       "      <td>[]</td>\n",
       "      <td>$$</td>\n",
       "      <td>{'address1': '31 Dunlop St E', 'address2': '',...</td>\n",
       "      <td>17057359595</td>\n",
       "      <td>+1 705-735-9595</td>\n",
       "      <td>1320.964019</td>\n",
       "    </tr>\n",
       "    <tr>\n",
       "      <th>4</th>\n",
       "      <td>ye_x-eM4Cl7zkjxIAHSj3g</td>\n",
       "      <td>casa-mia-restaurant-barrie</td>\n",
       "      <td>Casa Mia Restaurant</td>\n",
       "      <td>https://s3-media4.fl.yelpcdn.com/bphoto/Vf4WV0...</td>\n",
       "      <td>False</td>\n",
       "      <td>https://www.yelp.com/biz/casa-mia-restaurant-b...</td>\n",
       "      <td>20</td>\n",
       "      <td>[{'alias': 'greek', 'title': 'Greek'}]</td>\n",
       "      <td>3.5</td>\n",
       "      <td>{'latitude': 44.38801, 'longitude': -79.69337}</td>\n",
       "      <td>[]</td>\n",
       "      <td>$$</td>\n",
       "      <td>{'address1': '88 Dunlop Street W', 'address2':...</td>\n",
       "      <td>17057373663</td>\n",
       "      <td>+1 705-737-3663</td>\n",
       "      <td>1053.401691</td>\n",
       "    </tr>\n",
       "    <tr>\n",
       "      <th>5</th>\n",
       "      <td>gQEegmEvAh2btKQDcPd6Yg</td>\n",
       "      <td>andys-place-barrie</td>\n",
       "      <td>Andy's Place</td>\n",
       "      <td>https://s3-media4.fl.yelpcdn.com/bphoto/zyR8s-...</td>\n",
       "      <td>False</td>\n",
       "      <td>https://www.yelp.com/biz/andys-place-barrie?ad...</td>\n",
       "      <td>7</td>\n",
       "      <td>[{'alias': 'breakfast_brunch', 'title': 'Break...</td>\n",
       "      <td>3.5</td>\n",
       "      <td>{'latitude': 44.38115, 'longitude': -79.70649}</td>\n",
       "      <td>[]</td>\n",
       "      <td>$$</td>\n",
       "      <td>{'address1': '19 Hart Drive', 'address2': '', ...</td>\n",
       "      <td>17057219537</td>\n",
       "      <td>+1 705-721-9537</td>\n",
       "      <td>520.347698</td>\n",
       "    </tr>\n",
       "    <tr>\n",
       "      <th>6</th>\n",
       "      <td>OIoDkTi8qTpyyvmoXigJfg</td>\n",
       "      <td>bull-and-barrel-pub-barrie</td>\n",
       "      <td>Bull and Barrel Pub</td>\n",
       "      <td>https://s3-media4.fl.yelpcdn.com/bphoto/0AyZ5m...</td>\n",
       "      <td>False</td>\n",
       "      <td>https://www.yelp.com/biz/bull-and-barrel-pub-b...</td>\n",
       "      <td>9</td>\n",
       "      <td>[{'alias': 'pubs', 'title': 'Pubs'}, {'alias':...</td>\n",
       "      <td>4.0</td>\n",
       "      <td>{'latitude': 44.3839, 'longitude': -79.71124}</td>\n",
       "      <td>[]</td>\n",
       "      <td>$$</td>\n",
       "      <td>{'address1': '75 Cedar Pointe Drive', 'address...</td>\n",
       "      <td>17057194600</td>\n",
       "      <td>+1 705-719-4600</td>\n",
       "      <td>924.857486</td>\n",
       "    </tr>\n",
       "    <tr>\n",
       "      <th>7</th>\n",
       "      <td>i2lVeikx7Hj2ep9Y-zpp3Q</td>\n",
       "      <td>the-north-restaurant-barrie</td>\n",
       "      <td>The North Restaurant</td>\n",
       "      <td>https://s3-media2.fl.yelpcdn.com/bphoto/L82nrN...</td>\n",
       "      <td>False</td>\n",
       "      <td>https://www.yelp.com/biz/the-north-restaurant-...</td>\n",
       "      <td>21</td>\n",
       "      <td>[{'alias': 'italian', 'title': 'Italian'}, {'a...</td>\n",
       "      <td>3.5</td>\n",
       "      <td>{'latitude': 44.38873, 'longitude': -79.6925}</td>\n",
       "      <td>[]</td>\n",
       "      <td>$$$</td>\n",
       "      <td>{'address1': '49 Mary Street', 'address2': '',...</td>\n",
       "      <td>17058122192</td>\n",
       "      <td>+1 705-812-2192</td>\n",
       "      <td>1147.843371</td>\n",
       "    </tr>\n",
       "    <tr>\n",
       "      <th>8</th>\n",
       "      <td>kHq6MchLviFUvR_r3R5-pg</td>\n",
       "      <td>zios-by-giancarlo-barrie</td>\n",
       "      <td>Zio's By Giancarlo</td>\n",
       "      <td>https://s3-media2.fl.yelpcdn.com/bphoto/_XVjAP...</td>\n",
       "      <td>False</td>\n",
       "      <td>https://www.yelp.com/biz/zios-by-giancarlo-bar...</td>\n",
       "      <td>6</td>\n",
       "      <td>[{'alias': 'italian', 'title': 'Italian'}]</td>\n",
       "      <td>3.5</td>\n",
       "      <td>{'latitude': 44.37519, 'longitude': -79.69955}</td>\n",
       "      <td>[]</td>\n",
       "      <td>NaN</td>\n",
       "      <td>{'address1': '110 Anne Street S', 'address2': ...</td>\n",
       "      <td>17052525410</td>\n",
       "      <td>+1 705-252-5410</td>\n",
       "      <td>544.163700</td>\n",
       "    </tr>\n",
       "    <tr>\n",
       "      <th>9</th>\n",
       "      <td>oMYWMunOZycu6s_9hBazDw</td>\n",
       "      <td>queen-pouteen-innisfil</td>\n",
       "      <td>Queen Pouteen</td>\n",
       "      <td>https://s3-media2.fl.yelpcdn.com/bphoto/VgBY4Y...</td>\n",
       "      <td>False</td>\n",
       "      <td>https://www.yelp.com/biz/queen-pouteen-innisfi...</td>\n",
       "      <td>2</td>\n",
       "      <td>[{'alias': 'streetvendors', 'title': 'Street V...</td>\n",
       "      <td>5.0</td>\n",
       "      <td>{'latitude': 44.3755531311035, 'longitude': -7...</td>\n",
       "      <td>[]</td>\n",
       "      <td>NaN</td>\n",
       "      <td>{'address1': '1455 Innisfil Street', 'address2...</td>\n",
       "      <td>17057164459</td>\n",
       "      <td>+1 705-716-4459</td>\n",
       "      <td>779.424611</td>\n",
       "    </tr>\n",
       "  </tbody>\n",
       "</table>\n",
       "</div>"
      ],
      "text/plain": [
       "                       id                                alias  \\\n",
       "0  0ALYlK6edo8OnbiwH-b7fA               lazy-tulip-cafe-barrie   \n",
       "1  FEV75sLYoN1dvSpUCyIePA  pie-wood-fired-pizza-joint-barrie-4   \n",
       "2  s-noC8RmKF6FF2TZscl4Ig      the-farmhouse-restaurant-barrie   \n",
       "3  efeu6n1otNmaJPhwNLbLLw            il-buco-ristorante-barrie   \n",
       "4  ye_x-eM4Cl7zkjxIAHSj3g           casa-mia-restaurant-barrie   \n",
       "5  gQEegmEvAh2btKQDcPd6Yg                   andys-place-barrie   \n",
       "6  OIoDkTi8qTpyyvmoXigJfg           bull-and-barrel-pub-barrie   \n",
       "7  i2lVeikx7Hj2ep9Y-zpp3Q          the-north-restaurant-barrie   \n",
       "8  kHq6MchLviFUvR_r3R5-pg             zios-by-giancarlo-barrie   \n",
       "9  oMYWMunOZycu6s_9hBazDw               queen-pouteen-innisfil   \n",
       "\n",
       "                         name  \\\n",
       "0             Lazy Tulip Cafe   \n",
       "1  Pie Wood Fired Pizza Joint   \n",
       "2    The Farmhouse Restaurant   \n",
       "3          Il Buco Ristorante   \n",
       "4         Casa Mia Restaurant   \n",
       "5                Andy's Place   \n",
       "6         Bull and Barrel Pub   \n",
       "7        The North Restaurant   \n",
       "8          Zio's By Giancarlo   \n",
       "9               Queen Pouteen   \n",
       "\n",
       "                                           image_url  is_closed  \\\n",
       "0  https://s3-media4.fl.yelpcdn.com/bphoto/1lOxlP...      False   \n",
       "1  https://s3-media4.fl.yelpcdn.com/bphoto/-vGeWK...      False   \n",
       "2  https://s3-media1.fl.yelpcdn.com/bphoto/Evy3zl...      False   \n",
       "3  https://s3-media4.fl.yelpcdn.com/bphoto/sE-WPP...      False   \n",
       "4  https://s3-media4.fl.yelpcdn.com/bphoto/Vf4WV0...      False   \n",
       "5  https://s3-media4.fl.yelpcdn.com/bphoto/zyR8s-...      False   \n",
       "6  https://s3-media4.fl.yelpcdn.com/bphoto/0AyZ5m...      False   \n",
       "7  https://s3-media2.fl.yelpcdn.com/bphoto/L82nrN...      False   \n",
       "8  https://s3-media2.fl.yelpcdn.com/bphoto/_XVjAP...      False   \n",
       "9  https://s3-media2.fl.yelpcdn.com/bphoto/VgBY4Y...      False   \n",
       "\n",
       "                                                 url  review_count  \\\n",
       "0  https://www.yelp.com/biz/lazy-tulip-cafe-barri...            56   \n",
       "1  https://www.yelp.com/biz/pie-wood-fired-pizza-...            65   \n",
       "2  https://www.yelp.com/biz/the-farmhouse-restaur...            75   \n",
       "3  https://www.yelp.com/biz/il-buco-ristorante-ba...            22   \n",
       "4  https://www.yelp.com/biz/casa-mia-restaurant-b...            20   \n",
       "5  https://www.yelp.com/biz/andys-place-barrie?ad...             7   \n",
       "6  https://www.yelp.com/biz/bull-and-barrel-pub-b...             9   \n",
       "7  https://www.yelp.com/biz/the-north-restaurant-...            21   \n",
       "8  https://www.yelp.com/biz/zios-by-giancarlo-bar...             6   \n",
       "9  https://www.yelp.com/biz/queen-pouteen-innisfi...             2   \n",
       "\n",
       "                                          categories  rating  \\\n",
       "0  [{'alias': 'cafes', 'title': 'Cafes'}, {'alias...     4.0   \n",
       "1  [{'alias': 'pizza', 'title': 'Pizza'}, {'alias...     4.0   \n",
       "2  [{'alias': 'southern', 'title': 'Southern'}, {...     3.5   \n",
       "3         [{'alias': 'italian', 'title': 'Italian'}]     4.0   \n",
       "4             [{'alias': 'greek', 'title': 'Greek'}]     3.5   \n",
       "5  [{'alias': 'breakfast_brunch', 'title': 'Break...     3.5   \n",
       "6  [{'alias': 'pubs', 'title': 'Pubs'}, {'alias':...     4.0   \n",
       "7  [{'alias': 'italian', 'title': 'Italian'}, {'a...     3.5   \n",
       "8         [{'alias': 'italian', 'title': 'Italian'}]     3.5   \n",
       "9  [{'alias': 'streetvendors', 'title': 'Street V...     5.0   \n",
       "\n",
       "                                         coordinates transactions price  \\\n",
       "0     {'latitude': 44.37958, 'longitude': -79.69345}           []    $$   \n",
       "1  {'latitude': 44.3811166940956, 'longitude': -7...           []    $$   \n",
       "2  {'latitude': 44.3746199, 'longitude': -79.6896...           []    $$   \n",
       "3     {'latitude': 44.38914, 'longitude': -79.68919}           []    $$   \n",
       "4     {'latitude': 44.38801, 'longitude': -79.69337}           []    $$   \n",
       "5     {'latitude': 44.38115, 'longitude': -79.70649}           []    $$   \n",
       "6      {'latitude': 44.3839, 'longitude': -79.71124}           []    $$   \n",
       "7      {'latitude': 44.38873, 'longitude': -79.6925}           []   $$$   \n",
       "8     {'latitude': 44.37519, 'longitude': -79.69955}           []   NaN   \n",
       "9  {'latitude': 44.3755531311035, 'longitude': -7...           []   NaN   \n",
       "\n",
       "                                            location        phone  \\\n",
       "0  {'address1': '151 Bradford Street', 'address2'...  17052520910   \n",
       "1  {'address1': '11 Victoria St', 'address2': '',...  17057287952   \n",
       "2  {'address1': '268 Bradford Street', 'address2'...  17057370522   \n",
       "3  {'address1': '31 Dunlop St E', 'address2': '',...  17057359595   \n",
       "4  {'address1': '88 Dunlop Street W', 'address2':...  17057373663   \n",
       "5  {'address1': '19 Hart Drive', 'address2': '', ...  17057219537   \n",
       "6  {'address1': '75 Cedar Pointe Drive', 'address...  17057194600   \n",
       "7  {'address1': '49 Mary Street', 'address2': '',...  17058122192   \n",
       "8  {'address1': '110 Anne Street S', 'address2': ...  17052525410   \n",
       "9  {'address1': '1455 Innisfil Street', 'address2...  17057164459   \n",
       "\n",
       "     display_phone     distance  \n",
       "0  +1 705-252-0910   531.023427  \n",
       "1  +1 705-728-7952   748.207341  \n",
       "2  +1 705-737-0522  1018.732499  \n",
       "3  +1 705-735-9595  1320.964019  \n",
       "4  +1 705-737-3663  1053.401691  \n",
       "5  +1 705-721-9537   520.347698  \n",
       "6  +1 705-719-4600   924.857486  \n",
       "7  +1 705-812-2192  1147.843371  \n",
       "8  +1 705-252-5410   544.163700  \n",
       "9  +1 705-716-4459   779.424611  "
      ]
     },
     "execution_count": 35,
     "metadata": {},
     "output_type": "execute_result"
    }
   ],
   "source": [
    "df_yelp.head(10)"
   ]
  },
  {
   "cell_type": "markdown",
   "metadata": {},
   "source": [
    "### \"\"\"CLEANING DATA\"\"\""
   ]
  },
  {
   "cell_type": "code",
   "execution_count": 36,
   "metadata": {},
   "outputs": [
    {
     "data": {
      "text/html": [
       "<div>\n",
       "<style scoped>\n",
       "    .dataframe tbody tr th:only-of-type {\n",
       "        vertical-align: middle;\n",
       "    }\n",
       "\n",
       "    .dataframe tbody tr th {\n",
       "        vertical-align: top;\n",
       "    }\n",
       "\n",
       "    .dataframe thead th {\n",
       "        text-align: right;\n",
       "    }\n",
       "</style>\n",
       "<table border=\"1\" class=\"dataframe\">\n",
       "  <thead>\n",
       "    <tr style=\"text-align: right;\">\n",
       "      <th></th>\n",
       "      <th>columnName</th>\n",
       "      <th>is-nul-check</th>\n",
       "      <th>40%-or higher-empty-data</th>\n",
       "    </tr>\n",
       "  </thead>\n",
       "  <tbody>\n",
       "    <tr>\n",
       "      <th>0</th>\n",
       "      <td>id</td>\n",
       "      <td>0</td>\n",
       "      <td>False</td>\n",
       "    </tr>\n",
       "    <tr>\n",
       "      <th>1</th>\n",
       "      <td>alias</td>\n",
       "      <td>0</td>\n",
       "      <td>False</td>\n",
       "    </tr>\n",
       "    <tr>\n",
       "      <th>2</th>\n",
       "      <td>name</td>\n",
       "      <td>0</td>\n",
       "      <td>False</td>\n",
       "    </tr>\n",
       "    <tr>\n",
       "      <th>3</th>\n",
       "      <td>image_url</td>\n",
       "      <td>0</td>\n",
       "      <td>False</td>\n",
       "    </tr>\n",
       "    <tr>\n",
       "      <th>4</th>\n",
       "      <td>is_closed</td>\n",
       "      <td>0</td>\n",
       "      <td>False</td>\n",
       "    </tr>\n",
       "    <tr>\n",
       "      <th>5</th>\n",
       "      <td>url</td>\n",
       "      <td>0</td>\n",
       "      <td>False</td>\n",
       "    </tr>\n",
       "    <tr>\n",
       "      <th>6</th>\n",
       "      <td>review_count</td>\n",
       "      <td>0</td>\n",
       "      <td>False</td>\n",
       "    </tr>\n",
       "    <tr>\n",
       "      <th>7</th>\n",
       "      <td>categories</td>\n",
       "      <td>0</td>\n",
       "      <td>False</td>\n",
       "    </tr>\n",
       "    <tr>\n",
       "      <th>8</th>\n",
       "      <td>rating</td>\n",
       "      <td>0</td>\n",
       "      <td>False</td>\n",
       "    </tr>\n",
       "    <tr>\n",
       "      <th>9</th>\n",
       "      <td>coordinates</td>\n",
       "      <td>0</td>\n",
       "      <td>False</td>\n",
       "    </tr>\n",
       "    <tr>\n",
       "      <th>10</th>\n",
       "      <td>transactions</td>\n",
       "      <td>0</td>\n",
       "      <td>True</td>\n",
       "    </tr>\n",
       "    <tr>\n",
       "      <th>11</th>\n",
       "      <td>price</td>\n",
       "      <td>19</td>\n",
       "      <td>False</td>\n",
       "    </tr>\n",
       "    <tr>\n",
       "      <th>12</th>\n",
       "      <td>location</td>\n",
       "      <td>0</td>\n",
       "      <td>False</td>\n",
       "    </tr>\n",
       "    <tr>\n",
       "      <th>13</th>\n",
       "      <td>phone</td>\n",
       "      <td>0</td>\n",
       "      <td>False</td>\n",
       "    </tr>\n",
       "    <tr>\n",
       "      <th>14</th>\n",
       "      <td>display_phone</td>\n",
       "      <td>0</td>\n",
       "      <td>False</td>\n",
       "    </tr>\n",
       "    <tr>\n",
       "      <th>15</th>\n",
       "      <td>distance</td>\n",
       "      <td>0</td>\n",
       "      <td>False</td>\n",
       "    </tr>\n",
       "  </tbody>\n",
       "</table>\n",
       "</div>"
      ],
      "text/plain": [
       "       columnName  is-nul-check  40%-or higher-empty-data\n",
       "0              id             0                     False\n",
       "1           alias             0                     False\n",
       "2            name             0                     False\n",
       "3       image_url             0                     False\n",
       "4       is_closed             0                     False\n",
       "5             url             0                     False\n",
       "6    review_count             0                     False\n",
       "7      categories             0                     False\n",
       "8          rating             0                     False\n",
       "9     coordinates             0                     False\n",
       "10   transactions             0                      True\n",
       "11          price            19                     False\n",
       "12       location             0                     False\n",
       "13          phone             0                     False\n",
       "14  display_phone             0                     False\n",
       "15       distance             0                     False"
      ]
     },
     "execution_count": 36,
     "metadata": {},
     "output_type": "execute_result"
    }
   ],
   "source": [
    "high_empty_rate(df_yelp)"
   ]
  },
  {
   "cell_type": "code",
   "execution_count": 37,
   "metadata": {},
   "outputs": [],
   "source": [
    "drop_na(df_yelp)\n",
    "df_yelp.drop(['alias', 'image_url', 'is_closed', 'url', 'categories', 'coordinates', 'distance', 'phone'], axis=1, inplace=True)"
   ]
  },
  {
   "cell_type": "code",
   "execution_count": 38,
   "metadata": {},
   "outputs": [],
   "source": [
    "df_yelp_location = df_yelp['location']\n",
    "df_yelp.drop(['location'], axis=1, inplace=True)"
   ]
  },
  {
   "cell_type": "code",
   "execution_count": 39,
   "metadata": {},
   "outputs": [],
   "source": [
    "df_yelp['price'] = df_yelp['price'].fillna(df_yelp.price.describe().top)"
   ]
  },
  {
   "cell_type": "markdown",
   "metadata": {
    "tags": []
   },
   "source": [
    "# Google (stretch)"
   ]
  },
  {
   "cell_type": "markdown",
   "metadata": {},
   "source": [
    "Use the same process as the first two APIs"
   ]
  },
  {
   "cell_type": "code",
   "execution_count": null,
   "metadata": {},
   "outputs": [],
   "source": []
  },
  {
   "cell_type": "code",
   "execution_count": null,
   "metadata": {},
   "outputs": [],
   "source": []
  },
  {
   "cell_type": "code",
   "execution_count": null,
   "metadata": {},
   "outputs": [],
   "source": []
  },
  {
   "cell_type": "markdown",
   "metadata": {},
   "source": [
    "# Database FOURSQUARE"
   ]
  },
  {
   "cell_type": "markdown",
   "metadata": {},
   "source": [
    "Put all your results in an SQLite3 database (remember, SQLite stores its databases as files in your local machine - make sure to create your database in your project's data/ directory!)"
   ]
  },
  {
   "cell_type": "code",
   "execution_count": 40,
   "metadata": {},
   "outputs": [
    {
     "data": {
      "text/plain": [
       "(Index(['fsq_id', 'name', 'timezone', 'popularity'], dtype='object'),\n",
       " Index(['fsq_id', 'id', 'name'], dtype='object'),\n",
       " Index(['fsq_id', 'address', 'locality', 'postcode', 'region', 'country'], dtype='object'))"
      ]
     },
     "execution_count": 40,
     "metadata": {},
     "output_type": "execute_result"
    }
   ],
   "source": [
    "df_places_popularity.columns, df_categories.columns, df_location.columns"
   ]
  },
  {
   "cell_type": "code",
   "execution_count": 41,
   "metadata": {},
   "outputs": [],
   "source": [
    "fsq_database = sqlite3.connect('/Users/felixle/Desktop/Bootcamp Lectures/week_2/mini-project-II/data/square_database')\n",
    "fsq_conn = fsq_database.cursor()"
   ]
  },
  {
   "cell_type": "code",
   "execution_count": 42,
   "metadata": {},
   "outputs": [
    {
     "data": {
      "text/plain": [
       "31"
      ]
     },
     "execution_count": 42,
     "metadata": {},
     "output_type": "execute_result"
    }
   ],
   "source": [
    "fsq_conn.execute('''\n",
    "                    CREATE TABLE IF NOT EXISTS popularity_rate\n",
    "                    ([popularity_id] INTEGER PRIMARY KEY AUTOINCREMENT,[fsq_id] VARCHAR,[name] TEXT,[timezone] TEXT,[popularity] DECIMAL)\n",
    "                ''')\n",
    "fsq_conn.execute('''\n",
    "                CREATE TABLE IF NOT EXISTS location\n",
    "                ([location_id] INTEGER PRIMARY KEY AUTOINCREMENT, [fsq_id] VARCHAR, [address] VARCHAR, [locality] TEXT, [postcode] VARCHAR, [region] TEXT, [country] TEXT)\n",
    "                ''')\n",
    "fsq_conn.execute('''CREATE TABLE IF NOT EXISTS categories\n",
    "                 ([categories_id] INTEGER PRIMARY KEY AUTOINCREMENT, [fsq_id] VARCHAR, [id] VARCHAR, [name] TEXT)\n",
    "                 ''')\n",
    "\n",
    "fsq_database.commit()\n",
    "\n",
    "df_places_popularity.to_sql('popularity_rate', fsq_database, if_exists='replace', index=False)\n",
    "df_location.to_sql('location', fsq_database, if_exists='replace', index=False)\n",
    "df_categories.to_sql('categories', fsq_database, if_exists='replace', index=False)"
   ]
  },
  {
   "cell_type": "code",
   "execution_count": 43,
   "metadata": {},
   "outputs": [],
   "source": [
    "# Get the top 10 restaurants according to their rating"
   ]
  },
  {
   "cell_type": "code",
   "execution_count": 44,
   "metadata": {},
   "outputs": [
    {
     "data": {
      "text/html": [
       "<div>\n",
       "<style scoped>\n",
       "    .dataframe tbody tr th:only-of-type {\n",
       "        vertical-align: middle;\n",
       "    }\n",
       "\n",
       "    .dataframe tbody tr th {\n",
       "        vertical-align: top;\n",
       "    }\n",
       "\n",
       "    .dataframe thead th {\n",
       "        text-align: right;\n",
       "    }\n",
       "</style>\n",
       "<table border=\"1\" class=\"dataframe\">\n",
       "  <thead>\n",
       "    <tr style=\"text-align: right;\">\n",
       "      <th></th>\n",
       "      <th>name</th>\n",
       "      <th>popularity</th>\n",
       "    </tr>\n",
       "  </thead>\n",
       "  <tbody>\n",
       "    <tr>\n",
       "      <th>0</th>\n",
       "      <td>Fox's Catering</td>\n",
       "      <td>0.985121</td>\n",
       "    </tr>\n",
       "    <tr>\n",
       "      <th>1</th>\n",
       "      <td>The Italian Bakery</td>\n",
       "      <td>0.979595</td>\n",
       "    </tr>\n",
       "    <tr>\n",
       "      <th>2</th>\n",
       "      <td>Pie Wood Fired Pizza</td>\n",
       "      <td>0.975060</td>\n",
       "    </tr>\n",
       "    <tr>\n",
       "      <th>3</th>\n",
       "      <td>Popeye's Louisiana Kitchen</td>\n",
       "      <td>0.967975</td>\n",
       "    </tr>\n",
       "    <tr>\n",
       "      <th>4</th>\n",
       "      <td>Mary Browns</td>\n",
       "      <td>0.952813</td>\n",
       "    </tr>\n",
       "    <tr>\n",
       "      <th>5</th>\n",
       "      <td>Diamond Sushi</td>\n",
       "      <td>0.939918</td>\n",
       "    </tr>\n",
       "    <tr>\n",
       "      <th>6</th>\n",
       "      <td>Midway Diner</td>\n",
       "      <td>0.936375</td>\n",
       "    </tr>\n",
       "    <tr>\n",
       "      <th>7</th>\n",
       "      <td>Cafe Beans</td>\n",
       "      <td>0.926598</td>\n",
       "    </tr>\n",
       "    <tr>\n",
       "      <th>8</th>\n",
       "      <td>Pizza Pizza</td>\n",
       "      <td>0.925181</td>\n",
       "    </tr>\n",
       "    <tr>\n",
       "      <th>9</th>\n",
       "      <td>Continental Specialties</td>\n",
       "      <td>0.922347</td>\n",
       "    </tr>\n",
       "    <tr>\n",
       "      <th>10</th>\n",
       "      <td>Pizza Nova</td>\n",
       "      <td>0.914128</td>\n",
       "    </tr>\n",
       "    <tr>\n",
       "      <th>11</th>\n",
       "      <td>Subway</td>\n",
       "      <td>0.893864</td>\n",
       "    </tr>\n",
       "    <tr>\n",
       "      <th>12</th>\n",
       "      <td>Topper's Pizza</td>\n",
       "      <td>0.866941</td>\n",
       "    </tr>\n",
       "    <tr>\n",
       "      <th>13</th>\n",
       "      <td>Wok Inn</td>\n",
       "      <td>0.862264</td>\n",
       "    </tr>\n",
       "    <tr>\n",
       "      <th>14</th>\n",
       "      <td>Tiffsbar</td>\n",
       "      <td>0.856313</td>\n",
       "    </tr>\n",
       "    <tr>\n",
       "      <th>15</th>\n",
       "      <td>The Regatta</td>\n",
       "      <td>0.845827</td>\n",
       "    </tr>\n",
       "    <tr>\n",
       "      <th>16</th>\n",
       "      <td>The Mexican House</td>\n",
       "      <td>0.827689</td>\n",
       "    </tr>\n",
       "    <tr>\n",
       "      <th>17</th>\n",
       "      <td>Sticky Fingers Bar &amp; Grill</td>\n",
       "      <td>0.801615</td>\n",
       "    </tr>\n",
       "    <tr>\n",
       "      <th>18</th>\n",
       "      <td>Diamond Buffet</td>\n",
       "      <td>0.760096</td>\n",
       "    </tr>\n",
       "    <tr>\n",
       "      <th>19</th>\n",
       "      <td>Andy's Place</td>\n",
       "      <td>0.168060</td>\n",
       "    </tr>\n",
       "  </tbody>\n",
       "</table>\n",
       "</div>"
      ],
      "text/plain": [
       "                          name  popularity\n",
       "0               Fox's Catering    0.985121\n",
       "1           The Italian Bakery    0.979595\n",
       "2         Pie Wood Fired Pizza    0.975060\n",
       "3   Popeye's Louisiana Kitchen    0.967975\n",
       "4                  Mary Browns    0.952813\n",
       "5                Diamond Sushi    0.939918\n",
       "6                 Midway Diner    0.936375\n",
       "7                   Cafe Beans    0.926598\n",
       "8                  Pizza Pizza    0.925181\n",
       "9      Continental Specialties    0.922347\n",
       "10                  Pizza Nova    0.914128\n",
       "11                      Subway    0.893864\n",
       "12              Topper's Pizza    0.866941\n",
       "13                     Wok Inn    0.862264\n",
       "14                    Tiffsbar    0.856313\n",
       "15                 The Regatta    0.845827\n",
       "16           The Mexican House    0.827689\n",
       "17  Sticky Fingers Bar & Grill    0.801615\n",
       "18              Diamond Buffet    0.760096\n",
       "19                Andy's Place    0.168060"
      ]
     },
     "execution_count": 44,
     "metadata": {},
     "output_type": "execute_result"
    }
   ],
   "source": [
    "pd.read_sql(\"\"\"SELECT name, popularity\n",
    "                FROM popularity_rate\n",
    "                ORDER BY popularity DESC\n",
    "                \"\"\", fsq_database)"
   ]
  },
  {
   "cell_type": "markdown",
   "metadata": {},
   "source": [
    "## YELP DATABASE"
   ]
  },
  {
   "cell_type": "code",
   "execution_count": 45,
   "metadata": {},
   "outputs": [],
   "source": [
    "yelp_database = sqlite3.connect('/Users/felixle/Desktop/Bootcamp Lectures/week_2/mini-project-II/data/yelp_database')\n",
    "yelp_conn = yelp_database.cursor()"
   ]
  },
  {
   "cell_type": "code",
   "execution_count": 46,
   "metadata": {},
   "outputs": [
    {
     "data": {
      "text/plain": [
       "Index(['id', 'name', 'review_count', 'rating', 'price', 'display_phone'], dtype='object')"
      ]
     },
     "execution_count": 46,
     "metadata": {},
     "output_type": "execute_result"
    }
   ],
   "source": [
    "df_yelp.columns"
   ]
  },
  {
   "cell_type": "code",
   "execution_count": 47,
   "metadata": {},
   "outputs": [
    {
     "data": {
      "text/plain": [
       "37"
      ]
     },
     "execution_count": 47,
     "metadata": {},
     "output_type": "execute_result"
    }
   ],
   "source": [
    "yelp_conn.execute('''\n",
    "                    CREATE TABLE IF NOT EXISTS Barrie_locations\n",
    "                    ([id] VARCHAR,[name] VARCHAR,[review_count] DECIMAL,[rating] DECIMAL,[price] VARCHAR, [display_phone] VARCHAR)\n",
    "                  ''')\n",
    "\n",
    "yelp_database.commit()\n",
    "\n",
    "df_yelp.to_sql('Barrie_locations', yelp_database, if_exists='replace', index=False)"
   ]
  },
  {
   "cell_type": "code",
   "execution_count": 48,
   "metadata": {},
   "outputs": [],
   "source": [
    "# Get the top 10 restaurants according to their rating"
   ]
  },
  {
   "cell_type": "code",
   "execution_count": 49,
   "metadata": {},
   "outputs": [
    {
     "data": {
      "text/html": [
       "<div>\n",
       "<style scoped>\n",
       "    .dataframe tbody tr th:only-of-type {\n",
       "        vertical-align: middle;\n",
       "    }\n",
       "\n",
       "    .dataframe tbody tr th {\n",
       "        vertical-align: top;\n",
       "    }\n",
       "\n",
       "    .dataframe thead th {\n",
       "        text-align: right;\n",
       "    }\n",
       "</style>\n",
       "<table border=\"1\" class=\"dataframe\">\n",
       "  <thead>\n",
       "    <tr style=\"text-align: right;\">\n",
       "      <th></th>\n",
       "      <th>name</th>\n",
       "      <th>rating</th>\n",
       "    </tr>\n",
       "  </thead>\n",
       "  <tbody>\n",
       "    <tr>\n",
       "      <th>0</th>\n",
       "      <td>Queen Pouteen</td>\n",
       "      <td>5.0</td>\n",
       "    </tr>\n",
       "    <tr>\n",
       "      <th>1</th>\n",
       "      <td>Casano Italian Resturant</td>\n",
       "      <td>5.0</td>\n",
       "    </tr>\n",
       "    <tr>\n",
       "      <th>2</th>\n",
       "      <td>Bacio</td>\n",
       "      <td>5.0</td>\n",
       "    </tr>\n",
       "    <tr>\n",
       "      <th>3</th>\n",
       "      <td>Mexhico</td>\n",
       "      <td>4.5</td>\n",
       "    </tr>\n",
       "    <tr>\n",
       "      <th>4</th>\n",
       "      <td>Pattyhut</td>\n",
       "      <td>4.5</td>\n",
       "    </tr>\n",
       "    <tr>\n",
       "      <th>5</th>\n",
       "      <td>Lazy Tulip Cafe</td>\n",
       "      <td>4.0</td>\n",
       "    </tr>\n",
       "    <tr>\n",
       "      <th>6</th>\n",
       "      <td>Pie Wood Fired Pizza Joint</td>\n",
       "      <td>4.0</td>\n",
       "    </tr>\n",
       "    <tr>\n",
       "      <th>7</th>\n",
       "      <td>Il Buco Ristorante</td>\n",
       "      <td>4.0</td>\n",
       "    </tr>\n",
       "    <tr>\n",
       "      <th>8</th>\n",
       "      <td>Bull and Barrel Pub</td>\n",
       "      <td>4.0</td>\n",
       "    </tr>\n",
       "    <tr>\n",
       "      <th>9</th>\n",
       "      <td>Midway Diner</td>\n",
       "      <td>4.0</td>\n",
       "    </tr>\n",
       "    <tr>\n",
       "      <th>10</th>\n",
       "      <td>Little D's Family Restaurant</td>\n",
       "      <td>4.0</td>\n",
       "    </tr>\n",
       "    <tr>\n",
       "      <th>11</th>\n",
       "      <td>Fox's Bakery &amp; Deli</td>\n",
       "      <td>4.0</td>\n",
       "    </tr>\n",
       "    <tr>\n",
       "      <th>12</th>\n",
       "      <td>Heinz Burger</td>\n",
       "      <td>4.0</td>\n",
       "    </tr>\n",
       "    <tr>\n",
       "      <th>13</th>\n",
       "      <td>Continental Specialties and Imports</td>\n",
       "      <td>4.0</td>\n",
       "    </tr>\n",
       "    <tr>\n",
       "      <th>14</th>\n",
       "      <td>Pizza Nova</td>\n",
       "      <td>4.0</td>\n",
       "    </tr>\n",
       "    <tr>\n",
       "      <th>15</th>\n",
       "      <td>The Farmhouse Restaurant</td>\n",
       "      <td>3.5</td>\n",
       "    </tr>\n",
       "    <tr>\n",
       "      <th>16</th>\n",
       "      <td>Casa Mia Restaurant</td>\n",
       "      <td>3.5</td>\n",
       "    </tr>\n",
       "    <tr>\n",
       "      <th>17</th>\n",
       "      <td>Andy's Place</td>\n",
       "      <td>3.5</td>\n",
       "    </tr>\n",
       "    <tr>\n",
       "      <th>18</th>\n",
       "      <td>The North Restaurant</td>\n",
       "      <td>3.5</td>\n",
       "    </tr>\n",
       "    <tr>\n",
       "      <th>19</th>\n",
       "      <td>Zio's By Giancarlo</td>\n",
       "      <td>3.5</td>\n",
       "    </tr>\n",
       "    <tr>\n",
       "      <th>20</th>\n",
       "      <td>Pita Pit</td>\n",
       "      <td>3.5</td>\n",
       "    </tr>\n",
       "    <tr>\n",
       "      <th>21</th>\n",
       "      <td>Town &amp; Country Steak House</td>\n",
       "      <td>3.5</td>\n",
       "    </tr>\n",
       "    <tr>\n",
       "      <th>22</th>\n",
       "      <td>Papa Joe's Pizza &amp; Chicken</td>\n",
       "      <td>3.5</td>\n",
       "    </tr>\n",
       "    <tr>\n",
       "      <th>23</th>\n",
       "      <td>Popeyes® Louisiana Kitchen</td>\n",
       "      <td>3.0</td>\n",
       "    </tr>\n",
       "    <tr>\n",
       "      <th>24</th>\n",
       "      <td>Cha Cha Cha Italian Restaurant</td>\n",
       "      <td>3.0</td>\n",
       "    </tr>\n",
       "    <tr>\n",
       "      <th>25</th>\n",
       "      <td>Amaya Indian Room</td>\n",
       "      <td>3.0</td>\n",
       "    </tr>\n",
       "    <tr>\n",
       "      <th>26</th>\n",
       "      <td>One Love Island Cuisine</td>\n",
       "      <td>3.0</td>\n",
       "    </tr>\n",
       "    <tr>\n",
       "      <th>27</th>\n",
       "      <td>Roti Jerk</td>\n",
       "      <td>3.0</td>\n",
       "    </tr>\n",
       "    <tr>\n",
       "      <th>28</th>\n",
       "      <td>Diamond Sushi</td>\n",
       "      <td>2.5</td>\n",
       "    </tr>\n",
       "    <tr>\n",
       "      <th>29</th>\n",
       "      <td>British Arms Pub</td>\n",
       "      <td>2.5</td>\n",
       "    </tr>\n",
       "    <tr>\n",
       "      <th>30</th>\n",
       "      <td>McDonald's</td>\n",
       "      <td>2.0</td>\n",
       "    </tr>\n",
       "    <tr>\n",
       "      <th>31</th>\n",
       "      <td>Dragon Restaurant</td>\n",
       "      <td>2.0</td>\n",
       "    </tr>\n",
       "    <tr>\n",
       "      <th>32</th>\n",
       "      <td>Tandoori Tonight</td>\n",
       "      <td>1.5</td>\n",
       "    </tr>\n",
       "    <tr>\n",
       "      <th>33</th>\n",
       "      <td>Scarpaccio's Ristorante Grill &amp; Wine Bar</td>\n",
       "      <td>1.0</td>\n",
       "    </tr>\n",
       "    <tr>\n",
       "      <th>34</th>\n",
       "      <td>Four Season Delight</td>\n",
       "      <td>1.0</td>\n",
       "    </tr>\n",
       "    <tr>\n",
       "      <th>35</th>\n",
       "      <td>Dairy Queen Grill &amp; Chill</td>\n",
       "      <td>1.0</td>\n",
       "    </tr>\n",
       "    <tr>\n",
       "      <th>36</th>\n",
       "      <td>Topper's Pizza</td>\n",
       "      <td>1.0</td>\n",
       "    </tr>\n",
       "  </tbody>\n",
       "</table>\n",
       "</div>"
      ],
      "text/plain": [
       "                                        name  rating\n",
       "0                              Queen Pouteen     5.0\n",
       "1                   Casano Italian Resturant     5.0\n",
       "2                                      Bacio     5.0\n",
       "3                                    Mexhico     4.5\n",
       "4                                   Pattyhut     4.5\n",
       "5                            Lazy Tulip Cafe     4.0\n",
       "6                 Pie Wood Fired Pizza Joint     4.0\n",
       "7                         Il Buco Ristorante     4.0\n",
       "8                        Bull and Barrel Pub     4.0\n",
       "9                               Midway Diner     4.0\n",
       "10              Little D's Family Restaurant     4.0\n",
       "11                       Fox's Bakery & Deli     4.0\n",
       "12                              Heinz Burger     4.0\n",
       "13       Continental Specialties and Imports     4.0\n",
       "14                                Pizza Nova     4.0\n",
       "15                  The Farmhouse Restaurant     3.5\n",
       "16                       Casa Mia Restaurant     3.5\n",
       "17                              Andy's Place     3.5\n",
       "18                      The North Restaurant     3.5\n",
       "19                        Zio's By Giancarlo     3.5\n",
       "20                                  Pita Pit     3.5\n",
       "21                Town & Country Steak House     3.5\n",
       "22                Papa Joe's Pizza & Chicken     3.5\n",
       "23                Popeyes® Louisiana Kitchen     3.0\n",
       "24            Cha Cha Cha Italian Restaurant     3.0\n",
       "25                         Amaya Indian Room     3.0\n",
       "26                   One Love Island Cuisine     3.0\n",
       "27                                 Roti Jerk     3.0\n",
       "28                             Diamond Sushi     2.5\n",
       "29                          British Arms Pub     2.5\n",
       "30                                McDonald's     2.0\n",
       "31                         Dragon Restaurant     2.0\n",
       "32                          Tandoori Tonight     1.5\n",
       "33  Scarpaccio's Ristorante Grill & Wine Bar     1.0\n",
       "34                       Four Season Delight     1.0\n",
       "35                 Dairy Queen Grill & Chill     1.0\n",
       "36                            Topper's Pizza     1.0"
      ]
     },
     "execution_count": 49,
     "metadata": {},
     "output_type": "execute_result"
    }
   ],
   "source": [
    "pd.read_sql(\"\"\"SELECT name, rating\n",
    "                FROM Barrie_locations\n",
    "                ORDER BY rating DESC\n",
    "                \"\"\", yelp_database)"
   ]
  },
  {
   "cell_type": "code",
   "execution_count": null,
   "metadata": {},
   "outputs": [],
   "source": []
  },
  {
   "cell_type": "markdown",
   "metadata": {},
   "source": [
    "# Travelling Salesman Problem (stretch)"
   ]
  },
  {
   "cell_type": "markdown",
   "metadata": {},
   "source": [
    "If you have time, follow the steps in the [ortools tutorial](https://developers.google.com/optimization/routing/tsp) using Google's [Directions API](https://developers.google.com/maps/documentation/directions/start)."
   ]
  },
  {
   "cell_type": "code",
   "execution_count": null,
   "metadata": {},
   "outputs": [],
   "source": []
  }
 ],
 "metadata": {
  "kernelspec": {
   "display_name": "Python 3 (ipykernel)",
   "language": "python",
   "name": "python3"
  },
  "language_info": {
   "codemirror_mode": {
    "name": "ipython",
    "version": 3
   },
   "file_extension": ".py",
   "mimetype": "text/x-python",
   "name": "python",
   "nbconvert_exporter": "python",
   "pygments_lexer": "ipython3",
   "version": "3.9.13"
  }
 },
 "nbformat": 4,
 "nbformat_minor": 4
}
