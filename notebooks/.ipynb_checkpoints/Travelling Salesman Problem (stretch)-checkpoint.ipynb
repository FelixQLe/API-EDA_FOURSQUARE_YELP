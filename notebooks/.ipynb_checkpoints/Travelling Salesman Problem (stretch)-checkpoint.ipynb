{
 "cells": [
  {
   "cell_type": "markdown",
   "id": "d160d7d6",
   "metadata": {},
   "source": [
    "# Google (stretch)"
   ]
  },
  {
   "cell_type": "markdown",
   "id": "c579926f",
   "metadata": {},
   "source": [
    "Use the same process as the first two APIs"
   ]
  },
  {
   "cell_type": "code",
   "execution_count": null,
   "id": "048d8bb2",
   "metadata": {},
   "outputs": [],
   "source": []
  },
  {
   "cell_type": "markdown",
   "id": "1a75f2fe",
   "metadata": {},
   "source": [
    "Follow the steps in the [ortools tutorial](https://developers.google.com/optimization/routing/tsp) using Google's [Directions API](https://developers.google.com/maps/documentation/directions/start)."
   ]
  },
  {
   "cell_type": "code",
   "execution_count": null,
   "id": "b7e8d816",
   "metadata": {},
   "outputs": [],
   "source": []
  }
 ],
 "metadata": {
  "kernelspec": {
   "display_name": "Python 3.8 (tensorflow)",
   "language": "python",
   "name": "lighthouse"
  },
  "language_info": {
   "codemirror_mode": {
    "name": "ipython",
    "version": 3
   },
   "file_extension": ".py",
   "mimetype": "text/x-python",
   "name": "python",
   "nbconvert_exporter": "python",
   "pygments_lexer": "ipython3",
   "version": "3.9.13"
  }
 },
 "nbformat": 4,
 "nbformat_minor": 5
}
