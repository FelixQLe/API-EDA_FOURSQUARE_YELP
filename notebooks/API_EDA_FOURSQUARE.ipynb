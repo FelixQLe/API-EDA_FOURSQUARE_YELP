{
 "cells": [
  {
   "cell_type": "code",
   "execution_count": 35,
   "id": "f521d61f",
   "metadata": {},
   "outputs": [],
   "source": [
    "import requests\n",
    "import os\n",
    "import pandas as pd\n",
    "import numpy as np\n",
    "import json\n",
    "#from pandas import json_normalize\n",
    "import sqlite3\n",
    "\n",
    "foursquare_api = \"fsq3u98iHboEuSwGOgUw7vIxg3C1EFb4yG+x7jWwwdRG1Q0=\""
   ]
  },
  {
   "cell_type": "code",
   "execution_count": 36,
   "id": "9b2fd383",
   "metadata": {},
   "outputs": [],
   "source": [
    "#Send a request to Foursquare with a small radius (1000m) \n",
    "#with the location of your choice\n",
    "\"\"\"url fields base\"\"\"\n",
    "\n",
    "fsq_url_relevance = \"https://api.foursquare.com/v3/places/search?query=restaurants&ll=44.38%2C-79.70&radius=1000&sort=RELEVANCE&limit=50\"\n",
    "\n",
    "\"\"\"using for popularity requests\"\"\"\n",
    "fsq_url_poplt = \"https://api.foursquare.com/v3/places/\"\n",
    "fsq_fields = \"?fields=fsq_id%2Cpopularity\"\n",
    "\n",
    "\n",
    "fsq_headers = {\n",
    "    \"Accept\": \"application/json\",\n",
    "    \"Authorization\": foursquare_api\n",
    "}"
   ]
  },
  {
   "cell_type": "code",
   "execution_count": 37,
   "id": "3ac9c4f3",
   "metadata": {},
   "outputs": [],
   "source": [
    "fsq_relevn_res = requests.get(fsq_url_relevance, headers=fsq_headers)\n",
    "fsq_relevn_json = fsq_relevn_res.json()"
   ]
  },
  {
   "cell_type": "markdown",
   "id": "798e0283",
   "metadata": {},
   "source": [
    "### helping function"
   ]
  },
  {
   "cell_type": "code",
   "execution_count": 38,
   "id": "dfe8b634",
   "metadata": {},
   "outputs": [],
   "source": [
    "def get_popolatiry(fsq_id):\n",
    "    \"\"\"return popularity data for the restaurant according to unique their fsq_id\"\"\"\n",
    "    poplt_res = requests.get(fsq_url_poplt+fsq_id+fsq_fields, headers=fsq_headers)\n",
    "    return poplt_res.json()\n",
    "\n",
    "def write_json(respones_data, name_json):\n",
    "    \"\"\"make a json file if not exit with data file and name\"\"\"\n",
    "    \"\"\"name_json has to have prefix .json, and in string type\"\"\"\n",
    "    with open(name_json, \"w\") as opf:\n",
    "        json.dump(respones_data, opf)\n",
    "\n",
    "def check_empty_data(clm):\n",
    "    \"\"\"check nan, empty list [], dict {} column with more than 40% within column\"\"\"\n",
    "    count = 0\n",
    "    nan_val = None\n",
    "    for value in clm:\n",
    "        #null_val = [\"[]\", \"{}\" \"''\", \"NaN\", \"NULL\"]\n",
    "        if value == [] or value == {} or value == () or value == 'NaN':\n",
    "            nan_val = value\n",
    "            #print(value)\n",
    "            count += 1\n",
    "    #(\"null values percent: {}%\".format(count/len(clm)*100))\n",
    "    if (count/len(clm)*100) > 40:\n",
    "        return True\n",
    "    else:\n",
    "        return False\n",
    "    \n",
    "def drop_na(df):\n",
    "    \"\"\"drop all columns with nan or empty list value more than 40% within column, using function check_empty_data\"\"\"\n",
    "    nan_value = np.nan\n",
    "    for col in df.columns:\n",
    "        #bool_val, nul_val = check_empty_column(df[col])\n",
    "        if check_empty_data(df[col]) == True:\n",
    "            df.drop(col, axis=1, inplace=True)\n",
    "            \n",
    "def high_empty_rate(df):\n",
    "    \"\"\"the function will return table of isnull values and True False column with columns of data, with more than 40% of emtpty rows in column\"\"\"\n",
    "    bool_list = []\n",
    "    col_list = []\n",
    "    is_nul = [val for val in df.isnull().sum()]\n",
    "    for col in df.columns:\n",
    "        TF_value = check_empty_data(df[col])\n",
    "        col_list.append(col)\n",
    "        bool_list.append(TF_value)\n",
    "    list_of_tuples = list(zip(col_list, is_nul, bool_list))\n",
    "    #isnull_check = pd.DataFrame(df_fsq_revln.isnull().sum())\n",
    "    return pd.DataFrame(list_of_tuples, columns=['columnName','is-nul-check','40%-or higher-empty-data'])"
   ]
  },
  {
   "cell_type": "markdown",
   "id": "94c1f357",
   "metadata": {},
   "source": [
    "### Exploring and Checking data"
   ]
  },
  {
   "cell_type": "code",
   "execution_count": 39,
   "id": "b6617c9b",
   "metadata": {},
   "outputs": [
    {
     "data": {
      "text/plain": [
       "dict_keys(['results', 'context'])"
      ]
     },
     "execution_count": 39,
     "metadata": {},
     "output_type": "execute_result"
    }
   ],
   "source": [
    "\"\"\"checking json file\"\"\"\n",
    "fsq_relevn_json.keys()"
   ]
  },
  {
   "cell_type": "code",
   "execution_count": 40,
   "id": "7123c22e",
   "metadata": {},
   "outputs": [
    {
     "data": {
      "text/plain": [
       "(dict,\n",
       " list,\n",
       " dict,\n",
       " {'geo_bounds': {'circle': {'center': {'latitude': 44.38, 'longitude': -79.7},\n",
       "    'radius': 1000}}},\n",
       " {'fsq_id': '4d2ef96479dd6ea83b848dd3',\n",
       "  'categories': [{'id': 11057,\n",
       "    'name': 'Caterer',\n",
       "    'icon': {'prefix': 'https://ss3.4sqi.net/img/categories_v2/shops/foodanddrink_',\n",
       "     'suffix': '.png'}}],\n",
       "  'chains': [],\n",
       "  'distance': 226,\n",
       "  'geocodes': {'main': {'latitude': 44.3814, 'longitude': -79.697968},\n",
       "   'roof': {'latitude': 44.3814, 'longitude': -79.697968}},\n",
       "  'link': '/v3/places/4d2ef96479dd6ea83b848dd3',\n",
       "  'location': {'address': '96 Victoria St',\n",
       "   'country': 'CA',\n",
       "   'cross_street': '',\n",
       "   'formatted_address': '96 Victoria St, Barrie ON L4N 2J1',\n",
       "   'locality': 'Barrie',\n",
       "   'postcode': 'L4N 2J1',\n",
       "   'region': 'ON'},\n",
       "  'name': \"Fox's Catering\",\n",
       "  'related_places': {},\n",
       "  'timezone': 'America/Toronto'})"
      ]
     },
     "execution_count": 40,
     "metadata": {},
     "output_type": "execute_result"
    }
   ],
   "source": [
    "\"\"\"checking fsq_relevn_json file content\"\"\"\n",
    "type(fsq_relevn_json), type(fsq_relevn_json['results']), type(fsq_relevn_json['context']), fsq_relevn_json['context'], fsq_relevn_json['results'][0]"
   ]
  },
  {
   "cell_type": "code",
   "execution_count": 41,
   "id": "062454ec",
   "metadata": {},
   "outputs": [],
   "source": [
    "\"\"\"getting relevent data\"\"\"\n",
    "fsq_relevn_json = fsq_relevn_json['results']\n",
    "fsq_poplt = [get_popolatiry(fsq['fsq_id']) for fsq in fsq_relevn_json]"
   ]
  },
  {
   "cell_type": "code",
   "execution_count": 42,
   "id": "e2590923",
   "metadata": {},
   "outputs": [
    {
     "data": {
      "text/plain": [
       "{'fsq_id': '55d6927e498ebcdc84cb2b8f',\n",
       " 'categories': [{'id': 13031,\n",
       "   'name': 'Burger Joint',\n",
       "   'icon': {'prefix': 'https://ss3.4sqi.net/img/categories_v2/food/burger_',\n",
       "    'suffix': '.png'}}],\n",
       " 'chains': [],\n",
       " 'distance': 931,\n",
       " 'geocodes': {'main': {'latitude': 44.377342, 'longitude': -79.711353}},\n",
       " 'link': '/v3/places/55d6927e498ebcdc84cb2b8f',\n",
       " 'location': {'address': 'Dunlop St E',\n",
       "  'country': 'CA',\n",
       "  'cross_street': 'Mulcaster St',\n",
       "  'formatted_address': 'Dunlop St E (Mulcaster St), Barrie ON',\n",
       "  'locality': 'Barrie',\n",
       "  'region': 'ON'},\n",
       " 'name': 'The Marks',\n",
       " 'related_places': {},\n",
       " 'timezone': 'America/Toronto'}"
      ]
     },
     "execution_count": 42,
     "metadata": {},
     "output_type": "execute_result"
    }
   ],
   "source": [
    "fsq_relevn_json[23]"
   ]
  },
  {
   "cell_type": "code",
   "execution_count": 43,
   "id": "6ff4a19f",
   "metadata": {},
   "outputs": [],
   "source": [
    "#save json files\n",
    "write_json(fsq_poplt ,\"popularity_res_foursquare.json\")\n",
    "write_json(fsq_relevn_json,\"relevn_res_foursquare.json\")"
   ]
  },
  {
   "cell_type": "code",
   "execution_count": 44,
   "id": "deeb122a",
   "metadata": {},
   "outputs": [],
   "source": [
    "#loading json files\n",
    "df_fsq_poplt = pd.read_json(\"popularity_res_foursquare.json\")\n",
    "df_fsq_revln = pd.read_json(\"relevn_res_foursquare.json\")"
   ]
  },
  {
   "cell_type": "code",
   "execution_count": 20,
   "id": "d3cae524",
   "metadata": {},
   "outputs": [
    {
     "data": {
      "text/plain": [
       "(pandas.core.frame.DataFrame, pandas.core.frame.DataFrame)"
      ]
     },
     "execution_count": 20,
     "metadata": {},
     "output_type": "execute_result"
    }
   ],
   "source": [
    "type(df_fsq_poplt), type(df_fsq_revln)"
   ]
  },
  {
   "cell_type": "code",
   "execution_count": 21,
   "id": "abdceb19",
   "metadata": {},
   "outputs": [
    {
     "data": {
      "text/html": [
       "<div>\n",
       "<style scoped>\n",
       "    .dataframe tbody tr th:only-of-type {\n",
       "        vertical-align: middle;\n",
       "    }\n",
       "\n",
       "    .dataframe tbody tr th {\n",
       "        vertical-align: top;\n",
       "    }\n",
       "\n",
       "    .dataframe thead th {\n",
       "        text-align: right;\n",
       "    }\n",
       "</style>\n",
       "<table border=\"1\" class=\"dataframe\">\n",
       "  <thead>\n",
       "    <tr style=\"text-align: right;\">\n",
       "      <th></th>\n",
       "      <th>fsq_id</th>\n",
       "      <th>categories</th>\n",
       "      <th>chains</th>\n",
       "      <th>distance</th>\n",
       "      <th>geocodes</th>\n",
       "      <th>link</th>\n",
       "      <th>location</th>\n",
       "      <th>name</th>\n",
       "      <th>related_places</th>\n",
       "      <th>timezone</th>\n",
       "    </tr>\n",
       "  </thead>\n",
       "  <tbody>\n",
       "    <tr>\n",
       "      <th>0</th>\n",
       "      <td>4d2ef96479dd6ea83b848dd3</td>\n",
       "      <td>[{'id': 11057, 'name': 'Caterer', 'icon': {'pr...</td>\n",
       "      <td>[]</td>\n",
       "      <td>226</td>\n",
       "      <td>{'main': {'latitude': 44.3814, 'longitude': -7...</td>\n",
       "      <td>/v3/places/4d2ef96479dd6ea83b848dd3</td>\n",
       "      <td>{'address': '96 Victoria St', 'country': 'CA',...</td>\n",
       "      <td>Fox's Catering</td>\n",
       "      <td>{}</td>\n",
       "      <td>America/Toronto</td>\n",
       "    </tr>\n",
       "    <tr>\n",
       "      <th>1</th>\n",
       "      <td>4b6eee17f964a5209cd12ce3</td>\n",
       "      <td>[{'id': 13049, 'name': 'Diner', 'icon': {'pref...</td>\n",
       "      <td>[]</td>\n",
       "      <td>523</td>\n",
       "      <td>{'main': {'latitude': 44.379593, 'longitude': ...</td>\n",
       "      <td>/v3/places/4b6eee17f964a5209cd12ce3</td>\n",
       "      <td>{'address': '151 Bradford St', 'country': 'CA'...</td>\n",
       "      <td>Midway Diner</td>\n",
       "      <td>{}</td>\n",
       "      <td>America/Toronto</td>\n",
       "    </tr>\n",
       "  </tbody>\n",
       "</table>\n",
       "</div>"
      ],
      "text/plain": [
       "                     fsq_id  \\\n",
       "0  4d2ef96479dd6ea83b848dd3   \n",
       "1  4b6eee17f964a5209cd12ce3   \n",
       "\n",
       "                                          categories chains  distance  \\\n",
       "0  [{'id': 11057, 'name': 'Caterer', 'icon': {'pr...     []       226   \n",
       "1  [{'id': 13049, 'name': 'Diner', 'icon': {'pref...     []       523   \n",
       "\n",
       "                                            geocodes  \\\n",
       "0  {'main': {'latitude': 44.3814, 'longitude': -7...   \n",
       "1  {'main': {'latitude': 44.379593, 'longitude': ...   \n",
       "\n",
       "                                  link  \\\n",
       "0  /v3/places/4d2ef96479dd6ea83b848dd3   \n",
       "1  /v3/places/4b6eee17f964a5209cd12ce3   \n",
       "\n",
       "                                            location            name  \\\n",
       "0  {'address': '96 Victoria St', 'country': 'CA',...  Fox's Catering   \n",
       "1  {'address': '151 Bradford St', 'country': 'CA'...    Midway Diner   \n",
       "\n",
       "  related_places         timezone  \n",
       "0             {}  America/Toronto  \n",
       "1             {}  America/Toronto  "
      ]
     },
     "execution_count": 21,
     "metadata": {},
     "output_type": "execute_result"
    }
   ],
   "source": [
    "df_fsq_revln.head(2)"
   ]
  },
  {
   "cell_type": "code",
   "execution_count": 61,
   "id": "1b3b9655",
   "metadata": {},
   "outputs": [],
   "source": [
    "def drop_non_postcode(df):\n",
    "    \"\"\"drop all columns without postcode\"\"\"\n",
    "    for idx in df.index:\n",
    "        #bool_val, nul_val = check_empty_column(df[col])\n",
    "        if not \"postcode\" in df['location'][idx]:\n",
    "            df.drop(idx, axis=0, inplace=True)"
   ]
  },
  {
   "cell_type": "code",
   "execution_count": 62,
   "id": "97ff0d53",
   "metadata": {},
   "outputs": [],
   "source": [
    "drop_non_postcode(df_fsq_revln)"
   ]
  },
  {
   "cell_type": "code",
   "execution_count": 63,
   "id": "2720b141",
   "metadata": {},
   "outputs": [
    {
     "data": {
      "text/plain": [
       "24"
      ]
     },
     "execution_count": 63,
     "metadata": {},
     "output_type": "execute_result"
    }
   ],
   "source": [
    "len(df_fsq_revln)"
   ]
  },
  {
   "cell_type": "code",
   "execution_count": 85,
   "id": "93db80c1",
   "metadata": {},
   "outputs": [],
   "source": [
    "def unpack_location(data):\n",
    "    \"\"\"unpacked location infos into list, for later use input to sqlite table\"\"\"\n",
    "    #num = data.index\n",
    "    location_list = []\n",
    "    for num in data.index:\n",
    "        for location in data['location']:\n",
    "            #fsq_id = data['fsq_id'][num]\n",
    "            details = pd.Series(location)[['address', 'locality','postcode', 'region', 'country']]\n",
    "            fsqid_col = pd.Series([data_geo['fsq_id'][num]], index=['fsq_id'])\n",
    "            location_list.append(pd.concat([fsqid_col, details]))\n",
    "            \n",
    "    return location_list\n",
    "\n",
    "def unpack_categories(data):\n",
    "    \"\"\"unpacking the categories into dataframe for later, input to sqlite table\"\"\"\n",
    "    cat_idx = data.set_index(['fsq_id']).categories.apply(pd.Series).stack().index\n",
    "    df_catgrs = pd.DataFrame(data.set_index(['fsq_id']).categories.apply(pd.Series).stack().values.tolist(),index=cat_idx).reset_index().drop(['level_1', 'icon'], axis=1)\n",
    "    return df_catgrs"
   ]
  },
  {
   "cell_type": "code",
   "execution_count": 86,
   "id": "762a5ff2",
   "metadata": {},
   "outputs": [
    {
     "data": {
      "text/plain": [
       "Int64Index([ 0,  1,  2,  3,  4,  5,  6,  7,  8,  9, 10, 11, 12, 13, 14, 15, 16,\n",
       "            17, 18, 19, 20, 21, 22, 24],\n",
       "           dtype='int64')"
      ]
     },
     "execution_count": 86,
     "metadata": {},
     "output_type": "execute_result"
    }
   ],
   "source": [
    "df_fsq_revln.index"
   ]
  },
  {
   "cell_type": "code",
   "execution_count": 87,
   "id": "7737e0ae",
   "metadata": {},
   "outputs": [],
   "source": [
    "\"\"\"drop all high empty columns, according to function high_empty_rate return\"\"\"\n",
    "drop_na(df_fsq_revln)"
   ]
  },
  {
   "cell_type": "code",
   "execution_count": 88,
   "id": "91037172",
   "metadata": {},
   "outputs": [
    {
     "data": {
      "text/html": [
       "<div>\n",
       "<style scoped>\n",
       "    .dataframe tbody tr th:only-of-type {\n",
       "        vertical-align: middle;\n",
       "    }\n",
       "\n",
       "    .dataframe tbody tr th {\n",
       "        vertical-align: top;\n",
       "    }\n",
       "\n",
       "    .dataframe thead th {\n",
       "        text-align: right;\n",
       "    }\n",
       "</style>\n",
       "<table border=\"1\" class=\"dataframe\">\n",
       "  <thead>\n",
       "    <tr style=\"text-align: right;\">\n",
       "      <th></th>\n",
       "      <th>fsq_id</th>\n",
       "      <th>categories</th>\n",
       "      <th>distance</th>\n",
       "      <th>geocodes</th>\n",
       "      <th>link</th>\n",
       "      <th>location</th>\n",
       "      <th>name</th>\n",
       "      <th>timezone</th>\n",
       "    </tr>\n",
       "  </thead>\n",
       "  <tbody>\n",
       "    <tr>\n",
       "      <th>0</th>\n",
       "      <td>4d2ef96479dd6ea83b848dd3</td>\n",
       "      <td>[{'id': 11057, 'name': 'Caterer', 'icon': {'pr...</td>\n",
       "      <td>226</td>\n",
       "      <td>{'main': {'latitude': 44.3814, 'longitude': -7...</td>\n",
       "      <td>/v3/places/4d2ef96479dd6ea83b848dd3</td>\n",
       "      <td>{'address': '96 Victoria St', 'country': 'CA',...</td>\n",
       "      <td>Fox's Catering</td>\n",
       "      <td>America/Toronto</td>\n",
       "    </tr>\n",
       "    <tr>\n",
       "      <th>1</th>\n",
       "      <td>4b6eee17f964a5209cd12ce3</td>\n",
       "      <td>[{'id': 13049, 'name': 'Diner', 'icon': {'pref...</td>\n",
       "      <td>523</td>\n",
       "      <td>{'main': {'latitude': 44.379593, 'longitude': ...</td>\n",
       "      <td>/v3/places/4b6eee17f964a5209cd12ce3</td>\n",
       "      <td>{'address': '151 Bradford St', 'country': 'CA'...</td>\n",
       "      <td>Midway Diner</td>\n",
       "      <td>America/Toronto</td>\n",
       "    </tr>\n",
       "  </tbody>\n",
       "</table>\n",
       "</div>"
      ],
      "text/plain": [
       "                     fsq_id  \\\n",
       "0  4d2ef96479dd6ea83b848dd3   \n",
       "1  4b6eee17f964a5209cd12ce3   \n",
       "\n",
       "                                          categories  distance  \\\n",
       "0  [{'id': 11057, 'name': 'Caterer', 'icon': {'pr...       226   \n",
       "1  [{'id': 13049, 'name': 'Diner', 'icon': {'pref...       523   \n",
       "\n",
       "                                            geocodes  \\\n",
       "0  {'main': {'latitude': 44.3814, 'longitude': -7...   \n",
       "1  {'main': {'latitude': 44.379593, 'longitude': ...   \n",
       "\n",
       "                                  link  \\\n",
       "0  /v3/places/4d2ef96479dd6ea83b848dd3   \n",
       "1  /v3/places/4b6eee17f964a5209cd12ce3   \n",
       "\n",
       "                                            location            name  \\\n",
       "0  {'address': '96 Victoria St', 'country': 'CA',...  Fox's Catering   \n",
       "1  {'address': '151 Bradford St', 'country': 'CA'...    Midway Diner   \n",
       "\n",
       "          timezone  \n",
       "0  America/Toronto  \n",
       "1  America/Toronto  "
      ]
     },
     "execution_count": 88,
     "metadata": {},
     "output_type": "execute_result"
    }
   ],
   "source": [
    "df_fsq_revln.head(2)"
   ]
  },
  {
   "cell_type": "code",
   "execution_count": 89,
   "id": "f918ab57",
   "metadata": {},
   "outputs": [],
   "source": [
    "\"\"\"extracting category and location columns\"\"\"\n",
    "data_categor = df_fsq_revln[['fsq_id', 'categories']]\n",
    "data_geo = df_fsq_revln[['fsq_id', 'location']]\n",
    "\n",
    "\"\"\"input to dataframe format\"\"\"\n",
    "df_location = pd.DataFrame(unpack_location(df_fsq_revln))\n",
    "df_categories = unpack_categories(data_categor)"
   ]
  },
  {
   "cell_type": "code",
   "execution_count": 90,
   "id": "877b3c51",
   "metadata": {},
   "outputs": [
    {
     "data": {
      "text/html": [
       "<div>\n",
       "<style scoped>\n",
       "    .dataframe tbody tr th:only-of-type {\n",
       "        vertical-align: middle;\n",
       "    }\n",
       "\n",
       "    .dataframe tbody tr th {\n",
       "        vertical-align: top;\n",
       "    }\n",
       "\n",
       "    .dataframe thead th {\n",
       "        text-align: right;\n",
       "    }\n",
       "</style>\n",
       "<table border=\"1\" class=\"dataframe\">\n",
       "  <thead>\n",
       "    <tr style=\"text-align: right;\">\n",
       "      <th></th>\n",
       "      <th>fsq_id</th>\n",
       "      <th>address</th>\n",
       "      <th>locality</th>\n",
       "      <th>postcode</th>\n",
       "      <th>region</th>\n",
       "      <th>country</th>\n",
       "    </tr>\n",
       "  </thead>\n",
       "  <tbody>\n",
       "    <tr>\n",
       "      <th>0</th>\n",
       "      <td>4d2ef96479dd6ea83b848dd3</td>\n",
       "      <td>96 Victoria St</td>\n",
       "      <td>Barrie</td>\n",
       "      <td>L4N 2J1</td>\n",
       "      <td>ON</td>\n",
       "      <td>CA</td>\n",
       "    </tr>\n",
       "    <tr>\n",
       "      <th>1</th>\n",
       "      <td>4d2ef96479dd6ea83b848dd3</td>\n",
       "      <td>151 Bradford St</td>\n",
       "      <td>Barrie</td>\n",
       "      <td>L4N 3B4</td>\n",
       "      <td>ON</td>\n",
       "      <td>CA</td>\n",
       "    </tr>\n",
       "    <tr>\n",
       "      <th>2</th>\n",
       "      <td>4d2ef96479dd6ea83b848dd3</td>\n",
       "      <td>29 Anne St S</td>\n",
       "      <td>Barrie</td>\n",
       "      <td>L4N 2C5</td>\n",
       "      <td>ON</td>\n",
       "      <td>CA</td>\n",
       "    </tr>\n",
       "  </tbody>\n",
       "</table>\n",
       "</div>"
      ],
      "text/plain": [
       "                     fsq_id          address locality postcode region country\n",
       "0  4d2ef96479dd6ea83b848dd3   96 Victoria St   Barrie  L4N 2J1     ON      CA\n",
       "1  4d2ef96479dd6ea83b848dd3  151 Bradford St   Barrie  L4N 3B4     ON      CA\n",
       "2  4d2ef96479dd6ea83b848dd3     29 Anne St S   Barrie  L4N 2C5     ON      CA"
      ]
     },
     "execution_count": 90,
     "metadata": {},
     "output_type": "execute_result"
    }
   ],
   "source": [
    "df_location.head(3)"
   ]
  },
  {
   "cell_type": "code",
   "execution_count": 91,
   "id": "a8af381c",
   "metadata": {},
   "outputs": [
    {
     "data": {
      "text/html": [
       "<div>\n",
       "<style scoped>\n",
       "    .dataframe tbody tr th:only-of-type {\n",
       "        vertical-align: middle;\n",
       "    }\n",
       "\n",
       "    .dataframe tbody tr th {\n",
       "        vertical-align: top;\n",
       "    }\n",
       "\n",
       "    .dataframe thead th {\n",
       "        text-align: right;\n",
       "    }\n",
       "</style>\n",
       "<table border=\"1\" class=\"dataframe\">\n",
       "  <thead>\n",
       "    <tr style=\"text-align: right;\">\n",
       "      <th></th>\n",
       "      <th>fsq_id</th>\n",
       "      <th>id</th>\n",
       "      <th>name</th>\n",
       "    </tr>\n",
       "  </thead>\n",
       "  <tbody>\n",
       "    <tr>\n",
       "      <th>0</th>\n",
       "      <td>4d2ef96479dd6ea83b848dd3</td>\n",
       "      <td>11057</td>\n",
       "      <td>Caterer</td>\n",
       "    </tr>\n",
       "    <tr>\n",
       "      <th>1</th>\n",
       "      <td>4b6eee17f964a5209cd12ce3</td>\n",
       "      <td>13049</td>\n",
       "      <td>Diner</td>\n",
       "    </tr>\n",
       "    <tr>\n",
       "      <th>2</th>\n",
       "      <td>4b6eee17f964a5209cd12ce3</td>\n",
       "      <td>13068</td>\n",
       "      <td>American Restaurant</td>\n",
       "    </tr>\n",
       "  </tbody>\n",
       "</table>\n",
       "</div>"
      ],
      "text/plain": [
       "                     fsq_id     id                 name\n",
       "0  4d2ef96479dd6ea83b848dd3  11057              Caterer\n",
       "1  4b6eee17f964a5209cd12ce3  13049                Diner\n",
       "2  4b6eee17f964a5209cd12ce3  13068  American Restaurant"
      ]
     },
     "execution_count": 91,
     "metadata": {},
     "output_type": "execute_result"
    }
   ],
   "source": [
    "df_categories.head(3)"
   ]
  },
  {
   "cell_type": "markdown",
   "id": "d432e6cd",
   "metadata": {},
   "source": [
    "### Get the popularity"
   ]
  },
  {
   "cell_type": "code",
   "execution_count": 92,
   "id": "3e3af4b5",
   "metadata": {},
   "outputs": [],
   "source": [
    "\"\"\"drop columns with not relevant info, and columns that already be extacted\"\"\"\n",
    "df_fsq_revln.drop(['geocodes', 'link', 'location', 'categories', 'distance'], axis=1, inplace=True)"
   ]
  },
  {
   "cell_type": "code",
   "execution_count": 93,
   "id": "d39f224b",
   "metadata": {},
   "outputs": [
    {
     "data": {
      "text/plain": [
       "(pandas.core.frame.DataFrame, pandas.core.frame.DataFrame, 25, 24)"
      ]
     },
     "execution_count": 93,
     "metadata": {},
     "output_type": "execute_result"
    }
   ],
   "source": [
    "type(df_fsq_poplt), type(df_fsq_revln), len(df_fsq_poplt), len(df_fsq_revln)"
   ]
  },
  {
   "cell_type": "code",
   "execution_count": 94,
   "id": "90de7905",
   "metadata": {},
   "outputs": [],
   "source": [
    "\"\"\"merging two dataframes to one\"\"\"\n",
    "df_places_popularity = pd.merge(left=df_fsq_revln, right=df_fsq_poplt, left_on='fsq_id', right_on='fsq_id')"
   ]
  },
  {
   "cell_type": "code",
   "execution_count": 95,
   "id": "ee52ad60",
   "metadata": {},
   "outputs": [
    {
     "data": {
      "text/html": [
       "<div>\n",
       "<style scoped>\n",
       "    .dataframe tbody tr th:only-of-type {\n",
       "        vertical-align: middle;\n",
       "    }\n",
       "\n",
       "    .dataframe tbody tr th {\n",
       "        vertical-align: top;\n",
       "    }\n",
       "\n",
       "    .dataframe thead th {\n",
       "        text-align: right;\n",
       "    }\n",
       "</style>\n",
       "<table border=\"1\" class=\"dataframe\">\n",
       "  <thead>\n",
       "    <tr style=\"text-align: right;\">\n",
       "      <th></th>\n",
       "      <th>fsq_id</th>\n",
       "      <th>name</th>\n",
       "      <th>timezone</th>\n",
       "      <th>popularity</th>\n",
       "    </tr>\n",
       "  </thead>\n",
       "  <tbody>\n",
       "    <tr>\n",
       "      <th>0</th>\n",
       "      <td>4d2ef96479dd6ea83b848dd3</td>\n",
       "      <td>Fox's Catering</td>\n",
       "      <td>America/Toronto</td>\n",
       "      <td>0.986881</td>\n",
       "    </tr>\n",
       "    <tr>\n",
       "      <th>1</th>\n",
       "      <td>4b6eee17f964a5209cd12ce3</td>\n",
       "      <td>Midway Diner</td>\n",
       "      <td>America/Toronto</td>\n",
       "      <td>0.922274</td>\n",
       "    </tr>\n",
       "    <tr>\n",
       "      <th>2</th>\n",
       "      <td>5a70fb7a9411f2304935997a</td>\n",
       "      <td>Diamond Sushi</td>\n",
       "      <td>America/Toronto</td>\n",
       "      <td>0.942446</td>\n",
       "    </tr>\n",
       "    <tr>\n",
       "      <th>3</th>\n",
       "      <td>4f64d368e4b087553d3b8565</td>\n",
       "      <td>Tiffsbar</td>\n",
       "      <td>America/Toronto</td>\n",
       "      <td>0.885597</td>\n",
       "    </tr>\n",
       "    <tr>\n",
       "      <th>4</th>\n",
       "      <td>52cdd69b498e578c8ba767cd</td>\n",
       "      <td>Popeye's Louisiana Kitchen</td>\n",
       "      <td>America/Toronto</td>\n",
       "      <td>0.961490</td>\n",
       "    </tr>\n",
       "  </tbody>\n",
       "</table>\n",
       "</div>"
      ],
      "text/plain": [
       "                     fsq_id                        name         timezone  \\\n",
       "0  4d2ef96479dd6ea83b848dd3              Fox's Catering  America/Toronto   \n",
       "1  4b6eee17f964a5209cd12ce3                Midway Diner  America/Toronto   \n",
       "2  5a70fb7a9411f2304935997a               Diamond Sushi  America/Toronto   \n",
       "3  4f64d368e4b087553d3b8565                    Tiffsbar  America/Toronto   \n",
       "4  52cdd69b498e578c8ba767cd  Popeye's Louisiana Kitchen  America/Toronto   \n",
       "\n",
       "   popularity  \n",
       "0    0.986881  \n",
       "1    0.922274  \n",
       "2    0.942446  \n",
       "3    0.885597  \n",
       "4    0.961490  "
      ]
     },
     "execution_count": 95,
     "metadata": {},
     "output_type": "execute_result"
    }
   ],
   "source": [
    "df_places_popularity.head(5)"
   ]
  },
  {
   "cell_type": "code",
   "execution_count": 96,
   "id": "3268b748",
   "metadata": {},
   "outputs": [
    {
     "data": {
      "text/plain": [
       "(Index(['fsq_id', 'name', 'timezone', 'popularity'], dtype='object'),\n",
       " Index(['fsq_id', 'id', 'name'], dtype='object'),\n",
       " Index(['fsq_id', 'address', 'locality', 'postcode', 'region', 'country'], dtype='object'))"
      ]
     },
     "execution_count": 96,
     "metadata": {},
     "output_type": "execute_result"
    }
   ],
   "source": [
    "df_places_popularity.columns, df_categories.columns, df_location.columns"
   ]
  },
  {
   "cell_type": "code",
   "execution_count": 97,
   "id": "b7e01285",
   "metadata": {},
   "outputs": [
    {
     "ename": "OperationalError",
     "evalue": "unable to open database file",
     "output_type": "error",
     "traceback": [
      "\u001b[0;31m---------------------------------------------------------------------------\u001b[0m",
      "\u001b[0;31mOperationalError\u001b[0m                          Traceback (most recent call last)",
      "Cell \u001b[0;32mIn [97], line 1\u001b[0m\n\u001b[0;32m----> 1\u001b[0m fsq_database \u001b[38;5;241m=\u001b[39m \u001b[43msqlite3\u001b[49m\u001b[38;5;241;43m.\u001b[39;49m\u001b[43mconnect\u001b[49m\u001b[43m(\u001b[49m\u001b[38;5;124;43m'\u001b[39;49m\u001b[38;5;124;43m/Users/felixle/Desktop/Bootcamp Lectures/week_2/mini-project-II/data/square_database\u001b[39;49m\u001b[38;5;124;43m'\u001b[39;49m\u001b[43m)\u001b[49m\n\u001b[1;32m      2\u001b[0m fsq_conn \u001b[38;5;241m=\u001b[39m fsq_database\u001b[38;5;241m.\u001b[39mcursor()\n",
      "\u001b[0;31mOperationalError\u001b[0m: unable to open database file"
     ]
    }
   ],
   "source": [
    "fsq_database = sqlite3.connect('/Users/felixle/Desktop/Bootcamp Lectures/week_2/mini-project-II/data/square_database')\n",
    "fsq_conn = fsq_database.cursor()"
   ]
  },
  {
   "cell_type": "code",
   "execution_count": null,
   "id": "f633afad",
   "metadata": {},
   "outputs": [],
   "source": []
  }
 ],
 "metadata": {
  "kernelspec": {
   "display_name": "Python 3.8 (tensorflow)",
   "language": "python",
   "name": "lighthouse"
  },
  "language_info": {
   "codemirror_mode": {
    "name": "ipython",
    "version": 3
   },
   "file_extension": ".py",
   "mimetype": "text/x-python",
   "name": "python",
   "nbconvert_exporter": "python",
   "pygments_lexer": "ipython3",
   "version": "3.9.13"
  }
 },
 "nbformat": 4,
 "nbformat_minor": 5
}
