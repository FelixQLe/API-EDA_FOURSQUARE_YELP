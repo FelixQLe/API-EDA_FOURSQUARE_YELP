{
 "cells": [
  {
   "cell_type": "code",
   "execution_count": 4,
   "id": "02aa7038",
   "metadata": {},
   "outputs": [],
   "source": [
    "import requests\n",
    "import os\n",
    "import pandas as pd\n",
    "import numpy as np\n",
    "import json\n",
    "#from pandas import json_normalize\n",
    "import sqlite3\n",
    "\n",
    "foursquare_api = \"fsq3u98iHboEuSwGOgUw7vIxg3C1EFb4yG+x7jWwwdRG1Q0=\""
   ]
  },
  {
   "cell_type": "code",
   "execution_count": 3,
   "id": "b165e08e",
   "metadata": {},
   "outputs": [],
   "source": [
    "#Send a request to Foursquare with a small radius (1000m) \n",
    "#with the location of your choice\n",
    "\"\"\"url fields base\"\"\"\n",
    "\n",
    "fsq_url_relevance = \"https://api.foursquare.com/v3/places/search?query=restaurants&ll=44.38%2C-79.70&radius=1000&sort=RELEVANCE&limit=50\"\n",
    "\n",
    "\"\"\"using for popularity requests\"\"\"\n",
    "fsq_url_poplt = \"https://api.foursquare.com/v3/places/\"\n",
    "fsq_fields = \"?fields=fsq_id%2Cpopularity\"\n",
    "\n",
    "\n",
    "fsq_headers = {\n",
    "    \"Accept\": \"application/json\",\n",
    "    \"Authorization\": foursquare_api\n",
    "}"
   ]
  },
  {
   "cell_type": "code",
   "execution_count": null,
   "id": "8cb735ae",
   "metadata": {},
   "outputs": [],
   "source": []
  }
 ],
 "metadata": {
  "kernelspec": {
   "display_name": "Python 3.8 (tensorflow)",
   "language": "python",
   "name": "lighthouse"
  },
  "language_info": {
   "codemirror_mode": {
    "name": "ipython",
    "version": 3
   },
   "file_extension": ".py",
   "mimetype": "text/x-python",
   "name": "python",
   "nbconvert_exporter": "python",
   "pygments_lexer": "ipython3",
   "version": "3.9.13"
  }
 },
 "nbformat": 4,
 "nbformat_minor": 5
}
