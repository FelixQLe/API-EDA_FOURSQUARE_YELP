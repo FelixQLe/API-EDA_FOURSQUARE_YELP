{
 "cells": [
  {
   "cell_type": "code",
   "execution_count": null,
   "metadata": {},
   "outputs": [],
   "source": [
    "import os\n",
    "import tweepy\n",
    "import sqlite3\n",
    "import time\n",
    "import argparse"
   ]
  },
  {
   "cell_type": "markdown",
   "metadata": {},
   "source": [
    "**Task:** Load the values of access tokens and keys from environmental variables to python variables"
   ]
  },
  {
   "cell_type": "code",
   "execution_count": 3,
   "metadata": {},
   "outputs": [],
   "source": [
    "consumer_key = os.environ.get('consumer_key')# CODE HERE\n",
    "consumer_secret = os.environ.get('consumer_secret') # CODE HERE\n",
    "access_token = os.environ.get('access_token') # CODE HERE\n",
    "access_token_secret =os.environ.get('access_secret') # CODE HERE\n",
    "bearer_token = os.environ.get('bearer_token')"
   ]
  },
  {
   "cell_type": "code",
   "execution_count": 91,
   "metadata": {},
   "outputs": [
    {
     "name": "stdout",
     "output_type": "stream",
     "text": [
      "DB created!\n",
      "Table created\n"
     ]
    }
   ],
   "source": [
    "#create the sqlite3 database to store Data from tweets\n",
    "conn = sqlite3.connect(\"../data/tweets.db\")\n",
    "print(\"DB created!\")\n",
    "cursor = conn.cursor()\n",
    "cursor.execute(\"CREATE TABLE IF NOT EXISTS tweets (id, userid TEXT, tweet TEXT)\")\n",
    "print(\"Table created\")"
   ]
  },
  {
   "cell_type": "markdown",
   "metadata": {},
   "source": [
    "**Task:** Edit function `main` so it can store tweets anywhere (location specified as parameter). The FILTER and LANGUAGES should be parameters as well. Test it with different values and languages."
   ]
  },
  {
   "cell_type": "code",
   "execution_count": 92,
   "metadata": {},
   "outputs": [
    {
     "name": "stdout",
     "output_type": "stream",
     "text": [
      "Connected!\n"
     ]
    },
    {
     "name": "stderr",
     "output_type": "stream",
     "text": [
      "Stream encountered an exception\n",
      "Traceback (most recent call last):\n",
      "  File \"/opt/miniconda3/envs/lighthouse/lib/python3.9/site-packages/tweepy/streaming.py\", line 94, in _connect\n",
      "    self.on_data(line)\n",
      "  File \"/opt/miniconda3/envs/lighthouse/lib/python3.9/site-packages/tweepy/streaming.py\", line 936, in on_data\n",
      "    self.on_tweet(tweet)\n",
      "  File \"/var/folders/rn/ljpx9hjx4yvftbhwbld6fwjc0000gn/T/ipykernel_1028/118127026.py\", line 26, in on_tweet\n",
      "    cur.execute(sql_query, sql_vals)\n",
      "sqlite3.OperationalError: attempt to write a readonly database\n"
     ]
    },
    {
     "name": "stdout",
     "output_type": "stream",
     "text": [
      "Disconnected\n"
     ]
    }
   ],
   "source": [
    "class TweetStream(tweepy.StreamingClient):\n",
    "    \"\"\"\n",
    "    This class will be activted to listen new tweets (real-times) and\n",
    "    store into DB created\n",
    "    \n",
    "    def __init__(self, time_limit=120):\n",
    "        self.start_time = time.time()\n",
    "        self.limit = time_limit\n",
    "        super(TweetStream, self).__init__()\n",
    "    \"\"\"\n",
    "    time_limit = 70\n",
    "    start_time = time.time() \n",
    "    def on_connect(self):\n",
    "        #let us know that we have successfully connected to the twitter API\n",
    "        print(\"Connected!\")\n",
    "    \n",
    "    def on_tweet(self, tweet):\n",
    "        #get real-time tweets\n",
    "        if tweet.referenced_tweets == None: #not re-tweets\n",
    "            #sql queries\n",
    "            sql_query = \"\"\"\n",
    "                        INSERT INTO tweets (userid,tweet)\n",
    "                        VALUES (?, ?)\n",
    "                        \"\"\"\n",
    "            sql_vals = (tweet.id,tweet.text)\n",
    "            cur.execute(sql_query, sql_vals)\n",
    "            conn.commit()\n",
    "        tweet.disconnect()\n",
    "    \n",
    "    def on_disconnect(self):\n",
    "        #call after disconnect stream\n",
    "        print(\"Disconnected\")\n",
    "                \n",
    "\n",
    "        \n",
    "            \n",
    "stream = TweetStream(bearer_token)\n",
    "#..Params for functions\n",
    "# Apply rules\n",
    "#return current rules\n",
    "#stream.get_rules()\n",
    "\n",
    "#add new rules\n",
    "stream.add_rules(tweepy.StreamRule(value=\"Python has:mentions lang:en\", tag=\"Python\"))\n",
    "stream.add_rules(tweepy.StreamRule(value=\"Data Science has:mentions lang:en\", tag=\"Data Science\"))\n",
    "\n",
    "#filter to referenced_tweets to get data in on_tweet\n",
    "stream.filter(tweet_fields=[\"text\"])"
   ]
  },
  {
   "cell_type": "markdown",
   "metadata": {},
   "source": [
    "**Task:** Create File `stream_tweets.py` that can be executed from the Terminal by exporting the code from this notebook."
   ]
  },
  {
   "cell_type": "code",
   "execution_count": 89,
   "metadata": {},
   "outputs": [
    {
     "data": {
      "text/plain": [
       "False"
      ]
     },
     "execution_count": 89,
     "metadata": {},
     "output_type": "execute_result"
    }
   ],
   "source": [
    "time.time() - start < 70"
   ]
  },
  {
   "cell_type": "markdown",
   "metadata": {},
   "source": [
    "**Task:** Start storing tweets which contain either happy smiley (`:)`) or sad smiley (`:(`) in their text. We will use this dataset during the NLP section. It's good to let the script running for at least 2-3 hours to collect enough data for future modeling."
   ]
  },
  {
   "cell_type": "markdown",
   "metadata": {},
   "source": [
    "> #### Note\n",
    "> the main function runs as an ongoing process and won;t stop until you stop it!"
   ]
  },
  {
   "cell_type": "code",
   "execution_count": null,
   "metadata": {},
   "outputs": [],
   "source": []
  },
  {
   "cell_type": "code",
   "execution_count": null,
   "metadata": {},
   "outputs": [],
   "source": []
  }
 ],
 "metadata": {
  "kernelspec": {
   "display_name": "Python 3 (ipykernel)",
   "language": "python",
   "name": "python3"
  },
  "language_info": {
   "codemirror_mode": {
    "name": "ipython",
    "version": 3
   },
   "file_extension": ".py",
   "mimetype": "text/x-python",
   "name": "python",
   "nbconvert_exporter": "python",
   "pygments_lexer": "ipython3",
   "version": "3.9.13"
  }
 },
 "nbformat": 4,
 "nbformat_minor": 4
}
