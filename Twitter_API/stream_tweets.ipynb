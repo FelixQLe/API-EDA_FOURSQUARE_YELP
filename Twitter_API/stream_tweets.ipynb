{
 "cells": [
  {
   "cell_type": "code",
   "execution_count": 33,
   "metadata": {},
   "outputs": [],
   "source": [
    "import os\n",
    "from TwitterAPI import TwitterAPI\n",
    "import tweepy\n",
    "import sqlite3\n",
    "import time\n",
    "import argparse"
   ]
  },
  {
   "cell_type": "markdown",
   "metadata": {},
   "source": [
    "**Task:** Load the values of access tokens and keys from environmental variables to python variables"
   ]
  },
  {
   "cell_type": "code",
   "execution_count": 34,
   "metadata": {},
   "outputs": [],
   "source": [
    "consumer_key = os.environ.get('consumer_key')# CODE HERE\n",
    "consumer_secret = os.environ.get('consumer_secret') # CODE HERE\n",
    "access_token = os.environ.get('access_token') # CODE HERE\n",
    "access_token_secret =os.environ.get('access_secret') # CODE HERE\n",
    "bearer_token = os.environ.get('bearer_token')"
   ]
  },
  {
   "cell_type": "code",
   "execution_count": 36,
   "metadata": {},
   "outputs": [
    {
     "name": "stdout",
     "output_type": "stream",
     "text": [
      "DB created!\n",
      "Table created\n"
     ]
    }
   ],
   "source": [
    "#create the sqlite3 database to store Data from tweets\n",
    "conn = sqlite3.connect(\"../data/tweets.db\")\n",
    "print(\"DB created!\")\n",
    "cursor = conn.cursor()\n",
    "cursor.execute(\"CREATE TABLE IF NOT EXISTS tweets (username TEXT, tweet TEXT)\")\n",
    "print(\"Table created\")"
   ]
  },
  {
   "cell_type": "code",
   "execution_count": 4,
   "metadata": {},
   "outputs": [],
   "source": [
    "auth = tweepy.OAuthHandler(consumer_key, consumer_secret)\n",
    "auth.set_access_token(access_token, access_token_secret)\n",
    "api = tweepy.API(auth)"
   ]
  },
  {
   "cell_type": "code",
   "execution_count": 40,
   "metadata": {},
   "outputs": [
    {
     "data": {
      "text/plain": [
       "<tweepy.api.API at 0x10400d1c0>"
      ]
     },
     "execution_count": 40,
     "metadata": {},
     "output_type": "execute_result"
    }
   ],
   "source": [
    "# Checking the type of api object\n",
    "api"
   ]
  },
  {
   "cell_type": "code",
   "execution_count": null,
   "metadata": {},
   "outputs": [],
   "source": []
  },
  {
   "cell_type": "code",
   "execution_count": 147,
   "metadata": {
    "scrolled": true
   },
   "outputs": [
    {
     "data": {
      "text/plain": [
       "Response(data=[StreamRule(value='Python lang:en', tag='Python', id='1601819466991558656')], includes={}, errors=[], meta={'sent': '2022-12-11T06:27:30.897Z', 'result_count': 1})"
      ]
     },
     "execution_count": 147,
     "metadata": {},
     "output_type": "execute_result"
    }
   ],
   "source": [
    "import requests\n",
    "import json\n",
    "\n",
    "def bearer_oauth(r):\n",
    "    \"\"\"\n",
    "    Method required by bearer token authentication.\n",
    "    \"\"\"\n",
    "\n",
    "    r.headers[\"Authorization\"] = f\"Bearer {bearer_token}\"\n",
    "    r.headers[\"User-Agent\"] = \"v2FilteredStreamPython\"\n",
    "    return r\n",
    "\n",
    "\n",
    "def get_rules():\n",
    "    #return all current rules\n",
    "    response = requests.get(\n",
    "        \"https://api.twitter.com/2/tweets/search/stream/rules\", auth=bearer_oauth\n",
    "    )\n",
    "    if response.status_code != 200:\n",
    "        raise Exception(\n",
    "            \"Cannot get rules (HTTP {}): {}\".format(response.status_code, response.text)\n",
    "        )\n",
    "    print(json.dumps(response.json()))\n",
    "    return response.json()\n",
    "\n",
    "\n",
    "def delete_all_rules(rules):\n",
    "    #delete all current rules\n",
    "    if rules is None or \"data\" not in rules:\n",
    "        return None\n",
    "\n",
    "    ids = list(map(lambda rule: rule[\"id\"], rules[\"data\"]))\n",
    "    payload = {\"delete\": {\"ids\": ids}}\n",
    "    response = requests.post(\n",
    "        \"https://api.twitter.com/2/tweets/search/stream/rules\",\n",
    "        auth=bearer_oauth,\n",
    "        json=payload\n",
    "    )\n",
    "    if response.status_code != 200:\n",
    "        raise Exception(\n",
    "            \"Cannot delete rules (HTTP {}): {}\".format(\n",
    "                response.status_code, response.text\n",
    "            )\n",
    "        )\n",
    "    print(json.dumps(response.json()))\n",
    "\n",
    "\n",
    "def set_rules(delete):\n",
    "    #set new rules\n",
    "    twt_rules = [\n",
    "        {\"value\": \"Python lang:en\", \"tag\": \"Python\"}\n",
    "    ]\n",
    "    payload = {\"add\": twt_rules}\n",
    "    response = requests.post(\n",
    "        \"https://api.twitter.com/2/tweets/search/stream/rules\",\n",
    "        auth=bearer_oauth,\n",
    "        json=payload,\n",
    "    )\n",
    "    if response.status_code != 201:\n",
    "        raise Exception(\n",
    "            \"Cannot add rules (HTTP {}): {}\".format(response.status_code, response.text)\n",
    "        )\n",
    "    print(json.dumps(response.json()))\n",
    "    \n",
    "\n",
    "def get_stream(set):\n",
    "    response = requests.get(\n",
    "        \"https://api.twitter.com/2/tweets/search/stream\", auth=bearer_oauth, stream=True,\n",
    "    )\n",
    "    print(response.status_code)\n",
    "    if response.status_code != 200:\n",
    "        raise Exception(\n",
    "            \"Cannot get stream (HTTP {}): {}\".format(\n",
    "                response.status_code, response.text\n",
    "            )\n",
    "        )\n",
    "    for response_line in response.iter_lines():\n",
    "        if response_line:\n",
    "            json_response = json.loads(response_line)\n",
    "            print(json.dumps(json_response, indent=4, sort_keys=True))\n",
    "\n",
    "\n",
    "def main():\n",
    "    rules = get_rules()\n",
    "    delete = delete_all_rules(rules)\n",
    "    set = set_rules(delete)\n",
    "    get_stream(set)\n",
    "\n",
    "\n",
    "if __name__ == \"__main__\":\n",
    "    main()"
   ]
  },
  {
   "cell_type": "code",
   "execution_count": null,
   "metadata": {},
   "outputs": [
    {
     "name": "stdout",
     "output_type": "stream",
     "text": [
      "Connected!\n",
      "RT @TruthHurtsDemz: @HespeChristina @DanteOpt @XRebellionUK Climate Change “science”:\n",
      "\n",
      "✅ Untestable thesis\n",
      "✅ Hypocritical evangelists\n",
      "✅ Dis…\n",
      "RT @jnalanko: I asked ChatGPT to write a FASTA parser. It returned a fully working Python implementation with comments and everything. I as…\n",
      "RT @swapnakpanda: Best YouTube channels for Programming:\n",
      "\n",
      "❯ C ➟ Telusko\n",
      "❯ C++ ➟ thenewboston\n",
      "❯ Java ➟ Derek Banas\n",
      "❯ C# ➟ dotnet\n",
      "❯ PHP ➟ PHP…\n",
      "RT @jblefevre60: 💥Can't wait to learn more about #QuantumComputing at #CES2023!\n",
      "\n",
      "#AI #MachineLearning #Cloud #Python #Coding #100DaysOfCode…\n",
      "RT @pendeviejo95: LMAOOO acting like social science/qual workers don’t collect data\n",
      "RT @MemesDnd: Monty Python and the Curse of the Nat 1.\n",
      "⚔️⚔️\n",
      "credit to: jrex-42\n",
      "#dnd  #rpg  #dndcharacter  #charactersheet  #d20  #follow  #…\n",
      "RT @PythonPr: Build a Simple Blockchain in Python\n",
      "#python #blockchain \n",
      "https://t.co/ktjsTgIBI8\n",
      "RT @MemesDnd: Monty Python and the Curse of the Nat 1.\n",
      "⚔️⚔️\n",
      "credit to: jrex-42\n",
      "#dnd  #rpg  #dndcharacter  #charactersheet  #d20  #follow  #…\n",
      "RT @hacklido: 💠 Pico-CTF SUPER SERIAL by @0xManan \n",
      "\n",
      "🔗 https://t.co/lo5qgku3AO\n",
      "\n",
      "- - - # Tags - - -\n",
      "#infosecurity #infosec #cybersecurity #Cr…\n",
      "RT @swapnakpanda: Best YouTube channels for Programming:\n",
      "\n",
      "❯ C ➟ Telusko\n",
      "❯ C++ ➟ thenewboston\n",
      "❯ Java ➟ Derek Banas\n",
      "❯ C# ➟ dotnet\n",
      "❯ PHP ➟ PHP…\n",
      "RT @MemesDnd: Monty Python and the Curse of the Nat 1.\n",
      "⚔️⚔️\n",
      "credit to: jrex-42\n",
      "#dnd  #rpg  #dndcharacter  #charactersheet  #d20  #follow  #…\n",
      "@Analytics_699 @EvaSmartAI @Khulood_Almani @enilev 💥 Text guided \n",
      "Colorization ▶️\n",
      "\n",
      "ThAnk  U \n",
      "Mr Mack @Analytics_699 \n",
      "\n",
      "#bigdata \n",
      "#Twitter #CES2023 #TeCh #AI  \n",
      "#SOciaLmediA \n",
      "🍁\n",
      "@Miss_Tofunmi Na snake wey one person see e Dey call python!…\n",
      "You no sabi cook, Koshi.\n",
      "RT @RichardHeartWin: A bureau of truth is the opposite of science works. New data is always arriving. #FreeSpeech\n",
      "RT @swapnakpanda: Best YouTube channels for Programming:\n",
      "\n",
      "❯ C ➟ Telusko\n",
      "❯ C++ ➟ thenewboston\n",
      "❯ Java ➟ Derek Banas\n",
      "❯ C# ➟ dotnet\n",
      "❯ PHP ➟ PHP…\n",
      "RT @developer_quant: オライリーの \"Python Data Science Handbook\" は著者が全文を無料公開している\n",
      "https://t.co/iVVV0Rt0Jv\n",
      "\n",
      "ソースコード (Jupyter Notebook)\n",
      "https://t.co/…\n",
      "RT @danaparish: @elizavetaka None of that is really true. About me, or the vaccines. The dominant circulating variants have outpaced the va…\n",
      "RT @MemesDnd: Monty Python and the Curse of the Nat 1.\n",
      "⚔️⚔️\n",
      "credit to: jrex-42\n",
      "#dnd  #rpg  #dndcharacter  #charactersheet  #d20  #follow  #…\n",
      "@tohllyd @b_iggz @Fejizzy I code mainly python, &amp; it's my go to when working on sever side. Bt on the client side, please I also want to learn which language best add functionality than JS.\n",
      "Cos I don't even like the syntax of JS, it's more complicated as compared to Python.\n",
      "Bro JS is the king of frontside\n"
     ]
    }
   ],
   "source": [
    "class TweetStream(tweepy.StreamingClient):\n",
    "    \"\"\"\n",
    "    This class will be activted to listen new tweets (real-times) and\n",
    "    store into DB created\n",
    "    \"\"\"\n",
    "    def on_connect(self):\n",
    "        #let us know that we have successfully connected to the twitter API\n",
    "        print(\"Connected!\")\n",
    "    \n",
    "        \n",
    "    def on_tweet(self, tweet):\n",
    "        #get real-time tweets\n",
    "        if tweet.referenced_tweets != None:\n",
    "            print(tweet.text) \n",
    "            \n",
    "stream = TweetStream(bearer_token)\n",
    "\n",
    "#..Params for functions\n",
    "# Apply rules\n",
    "#return current rules\n",
    "#stream.get_rules()\n",
    "#add new rules\n",
    "stream.add_rules(tweepy.StreamRule(value=\"Python lang:en\", tag=\"Python\"))\n",
    "stream.add_rules(tweepy.StreamRule(value=\"Data Science has:mentions lang:en\", tag=\"Data Science\"))\n",
    "\n",
    "#return streaming tweets\n",
    "stream.filter(tweet_fields=[\"referenced_tweets\"])"
   ]
  },
  {
   "cell_type": "code",
   "execution_count": 150,
   "metadata": {},
   "outputs": [
    {
     "name": "stdout",
     "output_type": "stream",
     "text": [
      "Connected!\n",
      "RT @swapnakpanda: Best YouTube channels for Programming:\n",
      "\n",
      "❯ C ➟ Telusko\n",
      "❯ C++ ➟ thenewboston\n",
      "❯ Java ➟ Derek Banas\n",
      "❯ C# ➟ dotnet\n",
      "❯ PHP ➟ PHP…\n",
      "RT @_ijamy: If you are in need of someone to do writing for you in the field of software development you can DM me.\n",
      "I have specialised in t…\n"
     ]
    },
    {
     "name": "stderr",
     "output_type": "stream",
     "text": [
      "Stream encountered an exception\n",
      "Traceback (most recent call last):\n",
      "  File \"/opt/miniconda3/envs/lighthouse/lib/python3.9/site-packages/tweepy/streaming.py\", line 94, in _connect\n",
      "    self.on_data(line)\n",
      "  File \"/opt/miniconda3/envs/lighthouse/lib/python3.9/site-packages/tweepy/streaming.py\", line 936, in on_data\n",
      "    self.on_tweet(tweet)\n",
      "  File \"/var/folders/rn/ljpx9hjx4yvftbhwbld6fwjc0000gn/T/ipykernel_1062/294830648.py\", line 29, in on_tweet\n",
      "    self.new_tweet['tweet'] = tweet.text\n",
      "AttributeError: 'TweetStream' object has no attribute 'new_tweet'\n"
     ]
    }
   ],
   "source": [
    "class TweetStream(tweepy.StreamingClient):\n",
    "    \"\"\"\n",
    "    This class will be activted to listen new tweets (real-times) and\n",
    "    store into DB created\n",
    "    \"\"\"\n",
    "    def on_connect(self):\n",
    "        #let us know that we have successfully connected to the twitter API\n",
    "        print(\"Connected!\")\n",
    "    \n",
    "    def on_includes(self, includes):\n",
    "        #collect user details and adds to tweet database\n",
    "        self.new_tweet[\"username\"] = includes[\"users\"][0].username\n",
    "        print(self.new_tweet)\n",
    "        #insert tweets in bd\n",
    "        cursor.execute(\"INSERT INTO tweets VALUES (?,?)\",\n",
    "                       (\n",
    "                           self.new_tweet['username'],\n",
    "                           self.new_tweet['tweet'],\n",
    "                       ),\n",
    "                      )\n",
    "        conn.commit()\n",
    "        print(self.new_tweet)\n",
    "        print(\"real-time tweet added to sqlite3 tweet database!\")\n",
    "        print(\"-\" * 30)\n",
    "        \n",
    "    def on_tweet(self, tweet):\n",
    "        if tweet.referenced_tweets == None:\n",
    "            self.new_tweet['tweet'] = tweet.text\n",
    "        print(tweet.text)\n",
    "        \n",
    "stream = TweetStream(bearer_token)\n",
    "#..Params for functions\n",
    "\n",
    "#locations to store tweets\n",
    "LOCATION = '../data/'\n",
    "#threshold to stop streaming\n",
    "THRESHOLD = 10000\n",
    "\n",
    "# Apply rules\n",
    "#add new rules\n",
    "stream.add_rules(tweepy.StreamRule(value=\"Python lang:en\", tag=\"Python\"))\n",
    "stream.add_rules(tweepy.StreamRule(value=\"Data Science has:mentions\", tag=\"Data Science\"))\n",
    "#return recently added rules\n",
    "stream.get_rules()\n",
    "#return streaming tweets\n",
    "stream.filter(tweet_fields=[\"referenced_tweets\"])"
   ]
  },
  {
   "cell_type": "code",
   "execution_count": 27,
   "metadata": {},
   "outputs": [],
   "source": [
    "## FOLLOWING FUNCTION WILL COLLECT REAL-TIME TWEETS IN OUR COMPUTER\n",
    "def main():\n",
    "    with open('output.txt', 'a') as f:\n",
    "        # api.GetStreamFilter will return a generator that yields one status\n",
    "        # message (i.e., Tweet) at a time as a JSON dictionary.\n",
    "        for line in api.GetStreamFilter(track=FILTER, languages=LANGUAGES):\n",
    "            f.write(json.dumps(line))\n",
    "            f.write('\\n')"
   ]
  },
  {
   "cell_type": "code",
   "execution_count": 28,
   "metadata": {
    "tags": []
   },
   "outputs": [
    {
     "ename": "AttributeError",
     "evalue": "'API' object has no attribute 'GetStreamFilter'",
     "output_type": "error",
     "traceback": [
      "\u001b[0;31m---------------------------------------------------------------------------\u001b[0m",
      "\u001b[0;31mAttributeError\u001b[0m                            Traceback (most recent call last)",
      "Cell \u001b[0;32mIn [28], line 2\u001b[0m\n\u001b[1;32m      1\u001b[0m \u001b[38;5;66;03m# Execute function\u001b[39;00m\n\u001b[0;32m----> 2\u001b[0m \u001b[43mmain\u001b[49m\u001b[43m(\u001b[49m\u001b[43m)\u001b[49m\n",
      "Cell \u001b[0;32mIn [27], line 6\u001b[0m, in \u001b[0;36mmain\u001b[0;34m()\u001b[0m\n\u001b[1;32m      2\u001b[0m \u001b[38;5;28;01mdef\u001b[39;00m \u001b[38;5;21mmain\u001b[39m():\n\u001b[1;32m      3\u001b[0m     \u001b[38;5;28;01mwith\u001b[39;00m \u001b[38;5;28mopen\u001b[39m(\u001b[38;5;124m'\u001b[39m\u001b[38;5;124moutput.txt\u001b[39m\u001b[38;5;124m'\u001b[39m, \u001b[38;5;124m'\u001b[39m\u001b[38;5;124ma\u001b[39m\u001b[38;5;124m'\u001b[39m) \u001b[38;5;28;01mas\u001b[39;00m f:\n\u001b[1;32m      4\u001b[0m         \u001b[38;5;66;03m# api.GetStreamFilter will return a generator that yields one status\u001b[39;00m\n\u001b[1;32m      5\u001b[0m         \u001b[38;5;66;03m# message (i.e., Tweet) at a time as a JSON dictionary.\u001b[39;00m\n\u001b[0;32m----> 6\u001b[0m         \u001b[38;5;28;01mfor\u001b[39;00m line \u001b[38;5;129;01min\u001b[39;00m \u001b[43mapi\u001b[49m\u001b[38;5;241;43m.\u001b[39;49m\u001b[43mGetStreamFilter\u001b[49m(track\u001b[38;5;241m=\u001b[39mFILTER, languages\u001b[38;5;241m=\u001b[39mLANGUAGES):\n\u001b[1;32m      7\u001b[0m             f\u001b[38;5;241m.\u001b[39mwrite(json\u001b[38;5;241m.\u001b[39mdumps(line))\n\u001b[1;32m      8\u001b[0m             f\u001b[38;5;241m.\u001b[39mwrite(\u001b[38;5;124m'\u001b[39m\u001b[38;5;130;01m\\n\u001b[39;00m\u001b[38;5;124m'\u001b[39m)\n",
      "\u001b[0;31mAttributeError\u001b[0m: 'API' object has no attribute 'GetStreamFilter'"
     ]
    }
   ],
   "source": [
    "# Execute function\n",
    "main()"
   ]
  },
  {
   "cell_type": "markdown",
   "metadata": {},
   "source": [
    "**Task:** Edit function `main` so it can store tweets anywhere (location specified as parameter). The FILTER and LANGUAGES should be parameters as well. Test it with different values and languages."
   ]
  },
  {
   "cell_type": "markdown",
   "metadata": {},
   "source": [
    "**Task:** Create File `stream_tweets.py` that can be executed from the Terminal by exporting the code from this notebook."
   ]
  },
  {
   "cell_type": "markdown",
   "metadata": {},
   "source": [
    "**Task:** Start storing tweets which contain either happy smiley (`:)`) or sad smiley (`:(`) in their text. We will use this dataset during the NLP section. It's good to let the script running for at least 2-3 hours to collect enough data for future modeling."
   ]
  },
  {
   "cell_type": "markdown",
   "metadata": {},
   "source": [
    "> #### Note\n",
    "> the main function runs as an ongoing process and won;t stop until you stop it!"
   ]
  },
  {
   "cell_type": "code",
   "execution_count": null,
   "metadata": {},
   "outputs": [],
   "source": []
  },
  {
   "cell_type": "code",
   "execution_count": null,
   "metadata": {},
   "outputs": [],
   "source": []
  }
 ],
 "metadata": {
  "kernelspec": {
   "display_name": "Python 3 (ipykernel)",
   "language": "python",
   "name": "python3"
  },
  "language_info": {
   "codemirror_mode": {
    "name": "ipython",
    "version": 3
   },
   "file_extension": ".py",
   "mimetype": "text/x-python",
   "name": "python",
   "nbconvert_exporter": "python",
   "pygments_lexer": "ipython3",
   "version": "3.9.13"
  }
 },
 "nbformat": 4,
 "nbformat_minor": 4
}
